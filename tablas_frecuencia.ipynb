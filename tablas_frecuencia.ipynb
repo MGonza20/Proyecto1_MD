{
 "cells": [
  {
   "attachments": {},
   "cell_type": "markdown",
   "metadata": {},
   "source": [
    "## Tablas de frecuencia - Variables categóricas"
   ]
  },
  {
   "cell_type": "code",
   "execution_count": 8,
   "metadata": {},
   "outputs": [],
   "source": [
    "import pandas as pd"
   ]
  },
  {
   "cell_type": "code",
   "execution_count": 9,
   "metadata": {},
   "outputs": [],
   "source": [
    "data_frame = pd.read_csv(\"data_final.csv\")"
   ]
  },
  {
   "cell_type": "code",
   "execution_count": 11,
   "metadata": {},
   "outputs": [
    {
     "data": {
      "text/plain": [
       " 1     131693\n",
       " 14     50214\n",
       " 0      40827\n",
       " 23     27784\n",
       " 39     27470\n",
       " 16     12578\n",
       " 26     12336\n",
       " 8      11153\n",
       " 17      8541\n",
       " 29      8515\n",
       " 4       7549\n",
       " 19      6605\n",
       " 31      6287\n",
       " 38      5891\n",
       " 20      4701\n",
       " 32      4253\n",
       "-1       3930\n",
       " 28      3085\n",
       " 25      2904\n",
       " 24      2577\n",
       " 34      2131\n",
       " 36      2093\n",
       " 37      2011\n",
       " 11      1690\n",
       " 27      1351\n",
       " 30       967\n",
       " 5        796\n",
       " 35       687\n",
       " 9        602\n",
       " 33       592\n",
       " 2        566\n",
       " 13       527\n",
       " 18       375\n",
       " 41       303\n",
       " 21       271\n",
       " 7        180\n",
       " 15       164\n",
       " 22       157\n",
       " 6        111\n",
       " 40        84\n",
       " 12        57\n",
       " 10        25\n",
       " 3         22\n",
       "Name: ocupacionHombre, dtype: int64"
      ]
     },
     "execution_count": 11,
     "metadata": {},
     "output_type": "execute_result"
    }
   ],
   "source": [
    "# Tabla de frecuencia - Ocupacion Hombre\n",
    "data_frame[\"ocupacionHombre\"].value_counts()"
   ]
  },
  {
   "cell_type": "code",
   "execution_count": 12,
   "metadata": {},
   "outputs": [
    {
     "data": {
      "text/plain": [
       " 14    182602\n",
       " 0     134313\n",
       " 26     19968\n",
       " 18      9829\n",
       " 8       7365\n",
       "-1       6790\n",
       " 39      6094\n",
       " 31      3488\n",
       " 32      3337\n",
       " 38      2806\n",
       " 19      2469\n",
       " 30      2085\n",
       " 20      2082\n",
       " 34      2076\n",
       " 27      2003\n",
       " 36      1781\n",
       " 11      1281\n",
       " 28      1121\n",
       " 29       619\n",
       " 5        542\n",
       " 9        474\n",
       " 21       445\n",
       " 2        233\n",
       " 1        171\n",
       " 24       154\n",
       " 33       124\n",
       " 13       104\n",
       " 25        99\n",
       " 6         43\n",
       " 35        35\n",
       " 3         25\n",
       " 23        25\n",
       " 12        21\n",
       " 17        10\n",
       " 40        10\n",
       " 15         8\n",
       " 7          6\n",
       " 4          6\n",
       " 16         5\n",
       " 37         4\n",
       " 10         1\n",
       " 22         1\n",
       "Name: ocupacionMujer, dtype: int64"
      ]
     },
     "execution_count": 12,
     "metadata": {},
     "output_type": "execute_result"
    }
   ],
   "source": [
    "# Tabla de frecuencia - Ocupacion Mujer\n",
    "data_frame[\"ocupacionMujer\"].value_counts()"
   ]
  },
  {
   "cell_type": "code",
   "execution_count": 13,
   "metadata": {},
   "outputs": [
    {
     "data": {
      "text/plain": [
       " 1    338308\n",
       "-1     27552\n",
       " 2     22154\n",
       " 3      6641\n",
       "Name: claseUnion, dtype: int64"
      ]
     },
     "execution_count": 13,
     "metadata": {},
     "output_type": "execute_result"
    }
   ],
   "source": [
    "# Tabla de frecuencia - Clase Union\n",
    "data_frame[\"claseUnion\"].value_counts()"
   ]
  },
  {
   "cell_type": "code",
   "execution_count": 14,
   "metadata": {},
   "outputs": [
    {
     "data": {
      "text/plain": [
       " 1    207929\n",
       " 2    144477\n",
       "-1     42249\n",
       "Name: grupoEtnicoHombre, dtype: int64"
      ]
     },
     "execution_count": 14,
     "metadata": {},
     "output_type": "execute_result"
    }
   ],
   "source": [
    "# Tabla de frecuencia - Grupo Etnico Hombre\n",
    "data_frame[\"grupoEtnicoHombre\"].value_counts()"
   ]
  },
  {
   "cell_type": "code",
   "execution_count": 15,
   "metadata": {},
   "outputs": [
    {
     "data": {
      "text/plain": [
       " 1    197639\n",
       " 2    136343\n",
       "-1     60673\n",
       "Name: grupoEtnicoMujer, dtype: int64"
      ]
     },
     "execution_count": 15,
     "metadata": {},
     "output_type": "execute_result"
    }
   ],
   "source": [
    "# Tabla de frecuencia - Grupo Etnico Mujer\n",
    "data_frame[\"grupoEtnicoMujer\"].value_counts()"
   ]
  },
  {
   "cell_type": "code",
   "execution_count": 16,
   "metadata": {},
   "outputs": [
    {
     "data": {
      "text/plain": [
       " 2    136273\n",
       " 4     90525\n",
       " 1     65691\n",
       " 3     58862\n",
       "-1     28184\n",
       " 5     15019\n",
       " 6       101\n",
       "Name: educacionHombre, dtype: int64"
      ]
     },
     "execution_count": 16,
     "metadata": {},
     "output_type": "execute_result"
    }
   ],
   "source": [
    "# Tabla de frecuencia - Educacion Hombre\n",
    "data_frame[\"educacionHombre\"].value_counts()"
   ]
  },
  {
   "cell_type": "code",
   "execution_count": 17,
   "metadata": {},
   "outputs": [
    {
     "data": {
      "text/plain": [
       " 2    111119\n",
       " 1     98857\n",
       " 4     85547\n",
       " 3     45623\n",
       "-1     41130\n",
       " 5     12334\n",
       " 6        45\n",
       "Name: educacionMujer, dtype: int64"
      ]
     },
     "execution_count": 17,
     "metadata": {},
     "output_type": "execute_result"
    }
   ],
   "source": [
    "# Tabla de frecuencia - Educacion Mujer\n",
    "data_frame[\"educacionMujer\"].value_counts()"
   ]
  },
  {
   "cell_type": "code",
   "execution_count": 18,
   "metadata": {},
   "outputs": [
    {
     "data": {
      "text/plain": [
       "7     81740\n",
       "8     30460\n",
       "1     26718\n",
       "17    26668\n",
       "14    26262\n",
       "13    24265\n",
       "3     19729\n",
       "6     18842\n",
       "20    18180\n",
       "21    14424\n",
       "11    12696\n",
       "12    11869\n",
       "19    10595\n",
       "15     9934\n",
       "16     9709\n",
       "18     9327\n",
       "4      8811\n",
       "9      8298\n",
       "2      7740\n",
       "10     7499\n",
       "22     6357\n",
       "5      4532\n",
       "Name: departamentoRegistro, dtype: int64"
      ]
     },
     "execution_count": 18,
     "metadata": {},
     "output_type": "execute_result"
    }
   ],
   "source": [
    "# Tabla de frecuencia - Departamento Registro\n",
    "data_frame[\"departamentoRegistro\"].value_counts()"
   ]
  },
  {
   "cell_type": "code",
   "execution_count": 19,
   "metadata": {},
   "outputs": [
    {
     "data": {
      "text/plain": [
       "12    38877\n",
       "1     38232\n",
       "5     35362\n",
       "3     35146\n",
       "4     33129\n",
       "11    32087\n",
       "2     31833\n",
       "8     31728\n",
       "6     30490\n",
       "7     30240\n",
       "10    29870\n",
       "9     27661\n",
       "Name: mesRegistro, dtype: int64"
      ]
     },
     "execution_count": 19,
     "metadata": {},
     "output_type": "execute_result"
    }
   ],
   "source": [
    "# Tabla de frecuencia - Mes Registro\n",
    "data_frame[\"mesRegistro\"].value_counts()"
   ]
  }
 ],
 "metadata": {
  "kernelspec": {
   "display_name": "Python 3",
   "language": "python",
   "name": "python3"
  },
  "language_info": {
   "codemirror_mode": {
    "name": "ipython",
    "version": 3
   },
   "file_extension": ".py",
   "mimetype": "text/x-python",
   "name": "python",
   "nbconvert_exporter": "python",
   "pygments_lexer": "ipython3",
   "version": "3.10.6"
  },
  "orig_nbformat": 4
 },
 "nbformat": 4,
 "nbformat_minor": 2
}
