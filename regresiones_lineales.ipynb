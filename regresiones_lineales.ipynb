{
 "cells": [
  {
   "attachments": {},
   "cell_type": "markdown",
   "metadata": {},
   "source": [
    "# Regresiones Lineales"
   ]
  },
  {
   "cell_type": "code",
   "execution_count": 97,
   "metadata": {},
   "outputs": [],
   "source": [
    "# importar librerias\n",
    "%matplotlib inline\n",
    "import matplotlib.pyplot as plt\n",
    "import numpy as np\n",
    "import statsmodels.api as sm\n",
    "import statsmodels.stats.diagnostic as smd\n",
    "import pandas as pd\n",
    "from sklearn.linear_model import LinearRegression\n",
    "from sklearn.model_selection import cross_val_score\n",
    "from sklearn import datasets\n",
    "from sklearn.model_selection import train_test_split\n",
    "from sklearn.metrics import mean_squared_error,r2_score\n",
    "from sklearn.linear_model import Ridge, Lasso\n",
    "import seaborn as sns\n",
    "import statsmodels.api as sm\n",
    "from statsmodels.graphics.gofplots import qqplot\n",
    "import scipy.stats as stats\n",
    "import statsmodels.stats.diagnostic as diag\n",
    "from scipy.stats import normaltest\n",
    "from sklearn.model_selection import GridSearchCV\n",
    "from sklearn.preprocessing import PolynomialFeatures"
   ]
  },
  {
   "cell_type": "code",
   "execution_count": 98,
   "metadata": {},
   "outputs": [],
   "source": [
    "dataframe = pd.read_csv(\"data_no_codificada.csv\")"
   ]
  },
  {
   "attachments": {},
   "cell_type": "markdown",
   "metadata": {},
   "source": [
    "### Regresion Lineal para Edad de Hombre"
   ]
  },
  {
   "cell_type": "code",
   "execution_count": 99,
   "metadata": {},
   "outputs": [],
   "source": [
    "if('diferenciaEdad' in dataframe):\n",
    "    dataframe.pop(\"diferenciaEdad\")"
   ]
  },
  {
   "cell_type": "code",
   "execution_count": 100,
   "metadata": {},
   "outputs": [],
   "source": [
    "if('edadHombre' in dataframe):\n",
    "    edad_hombre = dataframe.pop(\"edadHombre\")"
   ]
  },
  {
   "cell_type": "code",
   "execution_count": 101,
   "metadata": {},
   "outputs": [],
   "source": [
    "# Realizar modelo de regresion lineal de edad de hombre\n",
    "y = edad_hombre\n",
    "X = dataframe"
   ]
  },
  {
   "cell_type": "code",
   "execution_count": 102,
   "metadata": {},
   "outputs": [],
   "source": [
    "X_train, X_test,y_train, y_test = train_test_split(X, y, test_size=0.3, train_size=0.7)"
   ]
  },
  {
   "cell_type": "code",
   "execution_count": 103,
   "metadata": {},
   "outputs": [],
   "source": [
    "# Preparando Regresion Lineal\n",
    "p_length = y_train.values.reshape(-1,1)\n",
    "p_length_t = y_test.values.reshape(-1,1)\n",
    "lm = LinearRegression()\n",
    "lm.fit(X_train, p_length)\n",
    "p_length_pred = lm.predict(X_test)"
   ]
  },
  {
   "cell_type": "code",
   "execution_count": 104,
   "metadata": {},
   "outputs": [],
   "source": [
    "# Creando una ecuacion para la regresion lineal\n",
    "# y = mx + c\n",
    "m = lm.coef_[0][0]\n",
    "c = lm.intercept_[0]"
   ]
  },
  {
   "cell_type": "code",
   "execution_count": 105,
   "metadata": {},
   "outputs": [
    {
     "name": "stdout",
     "output_type": "stream",
     "text": [
      "Mean Squared Error: 32.50\n",
      "R squared: 0.74\n"
     ]
    }
   ],
   "source": [
    "print(\"Mean Squared Error: %.2f\"%mean_squared_error(p_length_t,p_length_pred))\n",
    "print(\"R squared: %.2f\"%r2_score(p_length_t,p_length_pred))"
   ]
  },
  {
   "attachments": {},
   "cell_type": "markdown",
   "metadata": {},
   "source": [
    "Como se puede apreciar el error cuadratico medio (MSE) fue de \"32.82\"."
   ]
  },
  {
   "cell_type": "code",
   "execution_count": 106,
   "metadata": {},
   "outputs": [
    {
     "name": "stdout",
     "output_type": "stream",
     "text": [
      "R cuadrado en cada fold: [0.73249566 0.76262137 0.74565841 0.67269588 0.77808781]\n",
      "R cuadrado promedio: 0.7383118273641571\n"
     ]
    }
   ],
   "source": [
    "# Realizar validación cruzada con 5 folds\n",
    "scores = cross_val_score(lm, X, y, cv=5, scoring='r2')\n",
    "\n",
    "# Imprimir los resultados de cada fold\n",
    "print(\"R cuadrado en cada fold:\", scores)\n",
    "\n",
    "# Calcular el promedio del R cuadrado\n",
    "mean_score = scores.mean()\n",
    "print(\"R cuadrado promedio:\", mean_score)"
   ]
  },
  {
   "attachments": {},
   "cell_type": "markdown",
   "metadata": {},
   "source": [
    "### Regresion Lineal para Edad de Mujer"
   ]
  },
  {
   "cell_type": "code",
   "execution_count": 107,
   "metadata": {},
   "outputs": [],
   "source": [
    "dataframe = pd.read_csv(\"data_no_codificada.csv\") # \"Reiniciar\" dataframe"
   ]
  },
  {
   "cell_type": "code",
   "execution_count": 108,
   "metadata": {},
   "outputs": [],
   "source": [
    "if('diferenciaEdad' in dataframe):\n",
    "    dataframe.pop(\"diferenciaEdad\")"
   ]
  },
  {
   "cell_type": "code",
   "execution_count": 109,
   "metadata": {},
   "outputs": [],
   "source": [
    "if('edadMujer' in dataframe): # Regresion lineal con la edad de mujer\n",
    "    edad_mujer = dataframe.pop(\"edadMujer\")"
   ]
  },
  {
   "cell_type": "code",
   "execution_count": 110,
   "metadata": {},
   "outputs": [],
   "source": [
    "# realizar modelo de regresión lineal de edad de Mujer\n",
    "y = edad_mujer\n",
    "X = dataframe"
   ]
  },
  {
   "cell_type": "code",
   "execution_count": 111,
   "metadata": {},
   "outputs": [],
   "source": [
    "X_train, X_test,y_train, y_test = train_test_split(X, y, test_size=0.3, train_size=0.7)"
   ]
  },
  {
   "cell_type": "code",
   "execution_count": 112,
   "metadata": {},
   "outputs": [],
   "source": [
    "# Preparando Regresion Lineal\n",
    "p_length = y_train.values.reshape(-1,1)\n",
    "p_length_t = y_test.values.reshape(-1,1)\n",
    "lm = LinearRegression()\n",
    "lm.fit(X_train, p_length)\n",
    "p_length_pred = lm.predict(X_test)"
   ]
  },
  {
   "cell_type": "code",
   "execution_count": 113,
   "metadata": {},
   "outputs": [],
   "source": [
    "# Creando una ecuacion para la regresion lineal\n",
    "# y = mx + c\n",
    "m = lm.coef_[0][0]\n",
    "c = lm.intercept_[0]"
   ]
  },
  {
   "cell_type": "code",
   "execution_count": 114,
   "metadata": {},
   "outputs": [
    {
     "name": "stdout",
     "output_type": "stream",
     "text": [
      "Mean Squared Error: 26.16\n",
      "R squared: 0.74\n"
     ]
    }
   ],
   "source": [
    "print(\"Mean Squared Error: %.2f\"%mean_squared_error(p_length_t,p_length_pred))\n",
    "print(\"R squared: %.2f\"%r2_score(p_length_t,p_length_pred))"
   ]
  },
  {
   "attachments": {},
   "cell_type": "markdown",
   "metadata": {},
   "source": [
    "El error cuadratico medio (MSE) fue de \"25.84\"."
   ]
  },
  {
   "cell_type": "code",
   "execution_count": 115,
   "metadata": {},
   "outputs": [
    {
     "name": "stdout",
     "output_type": "stream",
     "text": [
      "R cuadrado en cada fold: [0.72931084 0.75955407 0.74763515 0.66667286 0.7765509 ]\n",
      "R cuadrado promedio: 0.7359447628847323\n"
     ]
    }
   ],
   "source": [
    "# Realizar validación cruzada con 5 folds\n",
    "scores = cross_val_score(lm, X, y, cv=5, scoring='r2')\n",
    "\n",
    "# Imprimir los resultados de cada fold\n",
    "print(\"R cuadrado en cada fold:\", scores)\n",
    "\n",
    "# Calcular el promedio del R cuadrado\n",
    "mean_score = scores.mean()\n",
    "print(\"R cuadrado promedio:\", mean_score)"
   ]
  },
  {
   "attachments": {},
   "cell_type": "markdown",
   "metadata": {},
   "source": [
    "## Tunear los modelos de regresion lineal"
   ]
  },
  {
   "attachments": {},
   "cell_type": "markdown",
   "metadata": {},
   "source": [
    "Modelo tuneado 1 (Para mujer)"
   ]
  },
  {
   "cell_type": "code",
   "execution_count": 116,
   "metadata": {},
   "outputs": [],
   "source": [
    "X_train, X_test,y_train, y_test = train_test_split(X, y, test_size=0.3, train_size=0.7)"
   ]
  },
  {
   "cell_type": "code",
   "execution_count": 117,
   "metadata": {},
   "outputs": [
    {
     "name": "stdout",
     "output_type": "stream",
     "text": [
      "RMSE Ridge: 5.077547041692053\n",
      "RMSE Lasso: 5.084041188101052\n",
      "\n",
      "R cuadrado Ridge: 0.7442271206870072\n",
      "R cuadrado Lasso: 0.7435724389154372\n"
     ]
    }
   ],
   "source": [
    "# Crear un modelo de regresión Ridge\n",
    "ridge = Ridge()\n",
    "\n",
    "# Definir la grilla de hiperparámetros a explorar\n",
    "param_grid = {'alpha': [0.1, 1.0, 10.0]}\n",
    "\n",
    "# Realizar búsqueda en cuadrícula para ajustar los hiperparámetros\n",
    "grid_search = GridSearchCV(estimator=ridge, param_grid=param_grid, cv=5)\n",
    "grid_search.fit(X_train, y_train)\n",
    "\n",
    "# Obtener los mejores hiperparámetros encontrados\n",
    "best_params = grid_search.best_params_\n",
    "\n",
    "# Crear un modelo de regresión Lasso\n",
    "lasso = Lasso()\n",
    "\n",
    "# Realizar búsqueda en cuadrícula para ajustar los hiperparámetros\n",
    "grid_search = GridSearchCV(estimator=lasso, param_grid=param_grid, cv=5)\n",
    "grid_search.fit(X_train, y_train)\n",
    "\n",
    "# Obtener los mejores hiperparámetros encontrados\n",
    "best_params = grid_search.best_params_\n",
    "\n",
    "# Entrenar y evaluar los modelos con los mejores hiperparámetros encontrados\n",
    "ridge = Ridge(alpha=best_params['alpha'])\n",
    "ridge.fit(X_train, y_train)\n",
    "ridge_predictions = ridge.predict(X_test)\n",
    "ridge_rmse = mean_squared_error(y_test, ridge_predictions, squared=False)\n",
    "ridge_r2 = r2_score(y_test, ridge_predictions)\n",
    "\n",
    "lasso = Lasso(alpha=best_params['alpha'])\n",
    "lasso.fit(X_train, y_train)\n",
    "lasso_predictions = lasso.predict(X_test)\n",
    "lasso_rmse = mean_squared_error(y_test, lasso_predictions, squared=False)\n",
    "lasso_r2 = r2_score(y_test, lasso_predictions)\n",
    "\n",
    "print(\"RMSE Ridge:\", ridge_rmse)\n",
    "print(\"RMSE Lasso:\", lasso_rmse)\n",
    "\n",
    "print(\"\\nR cuadrado Ridge:\", ridge_r2)\n",
    "print(\"R cuadrado Lasso:\", lasso_r2)"
   ]
  },
  {
   "cell_type": "code",
   "execution_count": 118,
   "metadata": {},
   "outputs": [
    {
     "name": "stdout",
     "output_type": "stream",
     "text": [
      "R cuadrado en cada fold: [0.7307529  0.76023925 0.7464916  0.66470661 0.77518741]\n",
      "R cuadrado promedio: 0.7354755538208327\n"
     ]
    }
   ],
   "source": [
    "# Realizar validación cruzada con 5 folds\n",
    "scores = cross_val_score(lasso, X, y, cv=5, scoring='r2')\n",
    "\n",
    "# Imprimir los resultados de cada fold\n",
    "print(\"R cuadrado en cada fold:\", scores)\n",
    "\n",
    "# Calcular el promedio del R cuadrado\n",
    "mean_score = scores.mean()\n",
    "print(\"R cuadrado promedio:\", mean_score)"
   ]
  },
  {
   "attachments": {},
   "cell_type": "markdown",
   "metadata": {},
   "source": [
    "Modelo tuneado 2 (Para mujer)"
   ]
  },
  {
   "cell_type": "code",
   "execution_count": 119,
   "metadata": {},
   "outputs": [
    {
     "name": "stdout",
     "output_type": "stream",
     "text": [
      "Precisión del modelo: 0.7574282008793163\n"
     ]
    }
   ],
   "source": [
    "# Generar características polinómicas\n",
    "poly_features = PolynomialFeatures(degree=2)\n",
    "X_poly = poly_features.fit_transform(X)\n",
    "\n",
    "# Dividir el conjunto de datos en entrenamiento y prueba\n",
    "X_train, X_test, y_train, y_test = train_test_split(X_poly, y, test_size=0.3, random_state=42)\n",
    "\n",
    "# Entrenar el modelo de regresión lineal\n",
    "model = LinearRegression()\n",
    "model.fit(X_train, y_train)\n",
    "\n",
    "# Calcular la precisión del modelo\n",
    "accuracy = model.score(X_test, y_test)\n",
    "print(\"Precisión del modelo:\", accuracy)"
   ]
  },
  {
   "cell_type": "code",
   "execution_count": 120,
   "metadata": {},
   "outputs": [
    {
     "name": "stdout",
     "output_type": "stream",
     "text": [
      "R cuadrado en cada fold: [0.72931084 0.75955407 0.74763515 0.66667286 0.7765509 ]\n",
      "R cuadrado promedio: 0.7359447628847323\n"
     ]
    }
   ],
   "source": [
    "# Realizar validación cruzada con 5 folds\n",
    "scores = cross_val_score(model, X, y, cv=5, scoring='r2')\n",
    "\n",
    "# Imprimir los resultados de cada fold\n",
    "print(\"R cuadrado en cada fold:\", scores)\n",
    "\n",
    "# Calcular el promedio del R cuadrado\n",
    "mean_score = scores.mean()\n",
    "print(\"R cuadrado promedio:\", mean_score)"
   ]
  },
  {
   "attachments": {},
   "cell_type": "markdown",
   "metadata": {},
   "source": [
    "Ahora se reiniciara la data para empezar a tunear los modelos para la edad de los hombres."
   ]
  },
  {
   "cell_type": "code",
   "execution_count": 121,
   "metadata": {},
   "outputs": [],
   "source": [
    "dataframe = pd.read_csv(\"data_no_codificada.csv\") # \"Reiniciar\" dataframe\n",
    "\n",
    "if('diferenciaEdad' in dataframe):\n",
    "    dataframe.pop(\"diferenciaEdad\")\n",
    "\n",
    "if('edadHombre' in dataframe):\n",
    "    edad_hombre = dataframe.pop(\"edadHombre\")"
   ]
  },
  {
   "cell_type": "code",
   "execution_count": 122,
   "metadata": {},
   "outputs": [],
   "source": [
    "# Realizar modelo de regresion lineal de edad de hombre\n",
    "y = edad_hombre\n",
    "X = dataframe"
   ]
  },
  {
   "attachments": {},
   "cell_type": "markdown",
   "metadata": {},
   "source": [
    "Modelo tuneado 1 (Para hombre)"
   ]
  },
  {
   "cell_type": "code",
   "execution_count": 123,
   "metadata": {},
   "outputs": [],
   "source": [
    "X_train, X_test,y_train, y_test = train_test_split(X, y, test_size=0.3, train_size=0.7)"
   ]
  },
  {
   "cell_type": "code",
   "execution_count": 124,
   "metadata": {},
   "outputs": [
    {
     "name": "stdout",
     "output_type": "stream",
     "text": [
      "RMSE Ridge: 5.693554716072409\n",
      "RMSE Lasso: 5.6967764093427675\n",
      "\n",
      "R cuadrado Ridge: 0.7475760562424372\n",
      "R cuadrado Lasso: 0.7472903076565627\n"
     ]
    }
   ],
   "source": [
    "# Crear un modelo de regresión Ridge\n",
    "ridge = Ridge()\n",
    "\n",
    "# Definir la grilla de hiperparámetros a explorar\n",
    "param_grid = {'alpha': [0.1, 1.0, 10.0]}\n",
    "\n",
    "# Realizar búsqueda en cuadrícula para ajustar los hiperparámetros\n",
    "grid_search = GridSearchCV(estimator=ridge, param_grid=param_grid, cv=5)\n",
    "grid_search.fit(X_train, y_train)\n",
    "\n",
    "# Obtener los mejores hiperparámetros encontrados\n",
    "best_params = grid_search.best_params_\n",
    "\n",
    "# Crear un modelo de regresión Lasso\n",
    "lasso = Lasso()\n",
    "\n",
    "# Realizar búsqueda en cuadrícula para ajustar los hiperparámetros\n",
    "grid_search = GridSearchCV(estimator=lasso, param_grid=param_grid, cv=5)\n",
    "grid_search.fit(X_train, y_train)\n",
    "\n",
    "# Obtener los mejores hiperparámetros encontrados\n",
    "best_params = grid_search.best_params_\n",
    "\n",
    "# Entrenar y evaluar los modelos con los mejores hiperparámetros encontrados\n",
    "ridge = Ridge(alpha=best_params['alpha'])\n",
    "ridge.fit(X_train, y_train)\n",
    "ridge_predictions = ridge.predict(X_test)\n",
    "ridge_rmse = mean_squared_error(y_test, ridge_predictions, squared=False)\n",
    "ridge_r2 = r2_score(y_test, ridge_predictions)\n",
    "\n",
    "lasso = Lasso(alpha=best_params['alpha'])\n",
    "lasso.fit(X_train, y_train)\n",
    "lasso_predictions = lasso.predict(X_test)\n",
    "lasso_rmse = mean_squared_error(y_test, lasso_predictions, squared=False)\n",
    "lasso_r2 = r2_score(y_test, lasso_predictions)\n",
    "\n",
    "print(\"RMSE Ridge:\", ridge_rmse)\n",
    "print(\"RMSE Lasso:\", lasso_rmse)\n",
    "\n",
    "print(\"\\nR cuadrado Ridge:\", ridge_r2)\n",
    "print(\"R cuadrado Lasso:\", lasso_r2)"
   ]
  },
  {
   "cell_type": "code",
   "execution_count": 125,
   "metadata": {},
   "outputs": [
    {
     "name": "stdout",
     "output_type": "stream",
     "text": [
      "R cuadrado en cada fold: [0.73317144 0.7628764  0.74515877 0.67164513 0.77752201]\n",
      "R cuadrado promedio: 0.7380747509826667\n"
     ]
    }
   ],
   "source": [
    "# Realizar validación cruzada con 5 folds\n",
    "scores = cross_val_score(lasso, X, y, cv=5, scoring='r2')\n",
    "\n",
    "# Imprimir los resultados de cada fold\n",
    "print(\"R cuadrado en cada fold:\", scores)\n",
    "\n",
    "# Calcular el promedio del R cuadrado\n",
    "mean_score = scores.mean()\n",
    "print(\"R cuadrado promedio:\", mean_score)"
   ]
  },
  {
   "attachments": {},
   "cell_type": "markdown",
   "metadata": {},
   "source": [
    "Modelo tuneado 2 (Para hombre)"
   ]
  },
  {
   "cell_type": "code",
   "execution_count": 126,
   "metadata": {},
   "outputs": [
    {
     "name": "stdout",
     "output_type": "stream",
     "text": [
      "Precisión del modelo: 0.753198411571103\n"
     ]
    }
   ],
   "source": [
    "# Generar características polinómicas\n",
    "poly_features = PolynomialFeatures(degree=2)\n",
    "X_poly = poly_features.fit_transform(X)\n",
    "\n",
    "# Dividir el conjunto de datos en entrenamiento y prueba\n",
    "X_train, X_test, y_train, y_test = train_test_split(X_poly, y, test_size=0.3, random_state=42)\n",
    "\n",
    "# Entrenar el modelo de regresión lineal\n",
    "model = LinearRegression()\n",
    "model.fit(X_train, y_train)\n",
    "\n",
    "# Calcular la precisión del modelo\n",
    "accuracy = model.score(X_test, y_test)\n",
    "print(\"Precisión del modelo:\", accuracy)"
   ]
  },
  {
   "cell_type": "code",
   "execution_count": 127,
   "metadata": {},
   "outputs": [
    {
     "name": "stdout",
     "output_type": "stream",
     "text": [
      "R cuadrado en cada fold: [0.73249566 0.76262137 0.74565841 0.67269588 0.77808781]\n",
      "R cuadrado promedio: 0.7383118273641571\n"
     ]
    }
   ],
   "source": [
    "# Realizar validación cruzada con 5 folds\n",
    "scores = cross_val_score(model, X, y, cv=5, scoring='r2')\n",
    "\n",
    "# Imprimir los resultados de cada fold\n",
    "print(\"R cuadrado en cada fold:\", scores)\n",
    "\n",
    "# Calcular el promedio del R cuadrado\n",
    "mean_score = scores.mean()\n",
    "print(\"R cuadrado promedio:\", mean_score)"
   ]
  }
 ],
 "metadata": {
  "kernelspec": {
   "display_name": "Python 3",
   "language": "python",
   "name": "python3"
  },
  "language_info": {
   "codemirror_mode": {
    "name": "ipython",
    "version": 3
   },
   "file_extension": ".py",
   "mimetype": "text/x-python",
   "name": "python",
   "nbconvert_exporter": "python",
   "pygments_lexer": "ipython3",
   "version": "3.10.6"
  },
  "orig_nbformat": 4
 },
 "nbformat": 4,
 "nbformat_minor": 2
}
