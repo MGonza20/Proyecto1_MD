{
 "cells": [
  {
   "attachments": {},
   "cell_type": "markdown",
   "metadata": {},
   "source": [
    "# Regresiones Lineales"
   ]
  },
  {
   "cell_type": "code",
   "execution_count": 44,
   "metadata": {},
   "outputs": [],
   "source": [
    "# importar librerias\n",
    "%matplotlib inline\n",
    "import matplotlib.pyplot as plt\n",
    "import numpy as np\n",
    "import statsmodels.api as sm\n",
    "import statsmodels.stats.diagnostic as smd\n",
    "import pandas as pd\n",
    "from sklearn.linear_model import LinearRegression\n",
    "from sklearn import datasets\n",
    "from sklearn.model_selection import train_test_split\n",
    "from sklearn.metrics import mean_squared_error,r2_score\n",
    "from sklearn.linear_model import Ridge, Lasso\n",
    "import seaborn as sns\n",
    "import statsmodels.api as sm\n",
    "from statsmodels.graphics.gofplots import qqplot\n",
    "import scipy.stats as stats\n",
    "import statsmodels.stats.diagnostic as diag\n",
    "from scipy.stats import normaltest\n",
    "from sklearn.model_selection import GridSearchCV\n",
    "from sklearn.preprocessing import PolynomialFeatures"
   ]
  },
  {
   "cell_type": "code",
   "execution_count": 45,
   "metadata": {},
   "outputs": [],
   "source": [
    "dataframe = pd.read_csv(\"data_no_codificada.csv\")"
   ]
  },
  {
   "attachments": {},
   "cell_type": "markdown",
   "metadata": {},
   "source": [
    "### Regresion Lineal para Edad de Hombre"
   ]
  },
  {
   "cell_type": "code",
   "execution_count": 46,
   "metadata": {},
   "outputs": [],
   "source": [
    "if('diferenciaEdad' in dataframe):\n",
    "    dataframe.pop(\"diferenciaEdad\")"
   ]
  },
  {
   "cell_type": "code",
   "execution_count": 47,
   "metadata": {},
   "outputs": [],
   "source": [
    "if('edadHombre' in dataframe):\n",
    "    edad_hombre = dataframe.pop(\"edadHombre\")"
   ]
  },
  {
   "cell_type": "code",
   "execution_count": 48,
   "metadata": {},
   "outputs": [],
   "source": [
    "# Realizar modelo de regresion lineal de edad de hombre\n",
    "y = edad_hombre\n",
    "X = dataframe"
   ]
  },
  {
   "cell_type": "code",
   "execution_count": 49,
   "metadata": {},
   "outputs": [],
   "source": [
    "X_train, X_test,y_train, y_test = train_test_split(X, y, test_size=0.3, train_size=0.7)"
   ]
  },
  {
   "cell_type": "code",
   "execution_count": 50,
   "metadata": {},
   "outputs": [],
   "source": [
    "# Preparando Regresion Lineal\n",
    "p_length = y_train.values.reshape(-1,1)\n",
    "p_length_t = y_test.values.reshape(-1,1)\n",
    "lm = LinearRegression()\n",
    "lm.fit(X_train, p_length)\n",
    "p_length_pred = lm.predict(X_test)"
   ]
  },
  {
   "cell_type": "code",
   "execution_count": 51,
   "metadata": {},
   "outputs": [],
   "source": [
    "# Creando una ecuacion para la regresion lineal\n",
    "# y = mx + c\n",
    "m = lm.coef_[0][0]\n",
    "c = lm.intercept_[0]"
   ]
  },
  {
   "cell_type": "code",
   "execution_count": 52,
   "metadata": {},
   "outputs": [
    {
     "name": "stdout",
     "output_type": "stream",
     "text": [
      "Mean Squared Error: 32.03\n",
      "R squared: 0.75\n"
     ]
    }
   ],
   "source": [
    "print(\"Mean Squared Error: %.2f\"%mean_squared_error(p_length_t,p_length_pred))\n",
    "print(\"R squared: %.2f\"%r2_score(p_length_t,p_length_pred))"
   ]
  },
  {
   "attachments": {},
   "cell_type": "markdown",
   "metadata": {},
   "source": [
    "Como se puede apreciar el error cuadratico medio (MSE) fue de \"32.82\"."
   ]
  },
  {
   "attachments": {},
   "cell_type": "markdown",
   "metadata": {},
   "source": [
    "### Regresion Lineal para Edad de Mujer"
   ]
  },
  {
   "cell_type": "code",
   "execution_count": 53,
   "metadata": {},
   "outputs": [],
   "source": [
    "dataframe = pd.read_csv(\"data_no_codificada.csv\") # \"Reiniciar\" dataframe"
   ]
  },
  {
   "cell_type": "code",
   "execution_count": 54,
   "metadata": {},
   "outputs": [],
   "source": [
    "if('diferenciaEdad' in dataframe):\n",
    "    dataframe.pop(\"diferenciaEdad\")"
   ]
  },
  {
   "cell_type": "code",
   "execution_count": 55,
   "metadata": {},
   "outputs": [],
   "source": [
    "if('edadMujer' in dataframe): # Regresion lineal con la edad de mujer\n",
    "    edad_mujer = dataframe.pop(\"edadMujer\")"
   ]
  },
  {
   "cell_type": "code",
   "execution_count": 56,
   "metadata": {},
   "outputs": [],
   "source": [
    "# realizar modelo de regresión lineal de edad de Mujer\n",
    "y = edad_mujer\n",
    "X = dataframe"
   ]
  },
  {
   "cell_type": "code",
   "execution_count": 57,
   "metadata": {},
   "outputs": [],
   "source": [
    "X_train, X_test,y_train, y_test = train_test_split(X, y, test_size=0.3, train_size=0.7)"
   ]
  },
  {
   "cell_type": "code",
   "execution_count": 58,
   "metadata": {},
   "outputs": [],
   "source": [
    "# Preparando Regresion Lineal\n",
    "p_length = y_train.values.reshape(-1,1)\n",
    "p_length_t = y_test.values.reshape(-1,1)\n",
    "lm = LinearRegression()\n",
    "lm.fit(X_train, p_length)\n",
    "p_length_pred = lm.predict(X_test)"
   ]
  },
  {
   "cell_type": "code",
   "execution_count": 59,
   "metadata": {},
   "outputs": [],
   "source": [
    "# Creando una ecuacion para la regresion lineal\n",
    "# y = mx + c\n",
    "m = lm.coef_[0][0]\n",
    "c = lm.intercept_[0]"
   ]
  },
  {
   "cell_type": "code",
   "execution_count": 60,
   "metadata": {},
   "outputs": [
    {
     "name": "stdout",
     "output_type": "stream",
     "text": [
      "Mean Squared Error: 25.99\n",
      "R squared: 0.74\n"
     ]
    }
   ],
   "source": [
    "print(\"Mean Squared Error: %.2f\"%mean_squared_error(p_length_t,p_length_pred))\n",
    "print(\"R squared: %.2f\"%r2_score(p_length_t,p_length_pred))"
   ]
  },
  {
   "attachments": {},
   "cell_type": "markdown",
   "metadata": {},
   "source": [
    "El error cuadratico medio (MSE) fue de \"25.84\"."
   ]
  },
  {
   "attachments": {},
   "cell_type": "markdown",
   "metadata": {},
   "source": [
    "## Tunear los modelos de regresion lineal"
   ]
  },
  {
   "attachments": {},
   "cell_type": "markdown",
   "metadata": {},
   "source": [
    "Modelo tuneado 1 (Para mujer)"
   ]
  },
  {
   "cell_type": "code",
   "execution_count": 61,
   "metadata": {},
   "outputs": [],
   "source": [
    "X_train, X_test,y_train, y_test = train_test_split(X, y, test_size=0.3, train_size=0.7)"
   ]
  },
  {
   "cell_type": "code",
   "execution_count": 62,
   "metadata": {},
   "outputs": [
    {
     "name": "stdout",
     "output_type": "stream",
     "text": [
      "RMSE Ridge: 5.083220294423208\n",
      "RMSE Lasso: 5.089549995334812\n",
      "\n",
      "R cuadrado Ridge: 0.7461661305654832\n",
      "R cuadrado Lasso: 0.7455335816220083\n"
     ]
    }
   ],
   "source": [
    "# Crear un modelo de regresión Ridge\n",
    "ridge = Ridge()\n",
    "\n",
    "# Definir la grilla de hiperparámetros a explorar\n",
    "param_grid = {'alpha': [0.1, 1.0, 10.0]}\n",
    "\n",
    "# Realizar búsqueda en cuadrícula para ajustar los hiperparámetros\n",
    "grid_search = GridSearchCV(estimator=ridge, param_grid=param_grid, cv=5)\n",
    "grid_search.fit(X_train, y_train)\n",
    "\n",
    "# Obtener los mejores hiperparámetros encontrados\n",
    "best_params = grid_search.best_params_\n",
    "\n",
    "# Crear un modelo de regresión Lasso\n",
    "lasso = Lasso()\n",
    "\n",
    "# Realizar búsqueda en cuadrícula para ajustar los hiperparámetros\n",
    "grid_search = GridSearchCV(estimator=lasso, param_grid=param_grid, cv=5)\n",
    "grid_search.fit(X_train, y_train)\n",
    "\n",
    "# Obtener los mejores hiperparámetros encontrados\n",
    "best_params = grid_search.best_params_\n",
    "\n",
    "# Entrenar y evaluar los modelos con los mejores hiperparámetros encontrados\n",
    "ridge = Ridge(alpha=best_params['alpha'])\n",
    "ridge.fit(X_train, y_train)\n",
    "ridge_predictions = ridge.predict(X_test)\n",
    "ridge_rmse = mean_squared_error(y_test, ridge_predictions, squared=False)\n",
    "ridge_r2 = r2_score(y_test, ridge_predictions)\n",
    "\n",
    "lasso = Lasso(alpha=best_params['alpha'])\n",
    "lasso.fit(X_train, y_train)\n",
    "lasso_predictions = lasso.predict(X_test)\n",
    "lasso_rmse = mean_squared_error(y_test, lasso_predictions, squared=False)\n",
    "lasso_r2 = r2_score(y_test, lasso_predictions)\n",
    "\n",
    "print(\"RMSE Ridge:\", ridge_rmse)\n",
    "print(\"RMSE Lasso:\", lasso_rmse)\n",
    "\n",
    "print(\"\\nR cuadrado Ridge:\", ridge_r2)\n",
    "print(\"R cuadrado Lasso:\", lasso_r2)"
   ]
  },
  {
   "attachments": {},
   "cell_type": "markdown",
   "metadata": {},
   "source": [
    "Modelo tuneado 2 (Para mujer)"
   ]
  },
  {
   "cell_type": "code",
   "execution_count": 63,
   "metadata": {},
   "outputs": [
    {
     "name": "stdout",
     "output_type": "stream",
     "text": [
      "Precisión del modelo: 0.7574282008793163\n"
     ]
    }
   ],
   "source": [
    "# Generar características polinómicas\n",
    "poly_features = PolynomialFeatures(degree=2)\n",
    "X_poly = poly_features.fit_transform(X)\n",
    "\n",
    "# Dividir el conjunto de datos en entrenamiento y prueba\n",
    "X_train, X_test, y_train, y_test = train_test_split(X_poly, y, test_size=0.3, random_state=42)\n",
    "\n",
    "# Entrenar el modelo de regresión lineal\n",
    "model = LinearRegression()\n",
    "model.fit(X_train, y_train)\n",
    "\n",
    "# Calcular la precisión del modelo\n",
    "accuracy = model.score(X_test, y_test)\n",
    "print(\"Precisión del modelo:\", accuracy)"
   ]
  },
  {
   "attachments": {},
   "cell_type": "markdown",
   "metadata": {},
   "source": [
    "Ahora se reiniciara la data para empezar a tunear los modelos para la edad de los hombres."
   ]
  },
  {
   "cell_type": "code",
   "execution_count": 64,
   "metadata": {},
   "outputs": [],
   "source": [
    "dataframe = pd.read_csv(\"data_no_codificada.csv\") # \"Reiniciar\" dataframe\n",
    "\n",
    "if('diferenciaEdad' in dataframe):\n",
    "    dataframe.pop(\"diferenciaEdad\")\n",
    "\n",
    "if('edadHombre' in dataframe):\n",
    "    edad_hombre = dataframe.pop(\"edadHombre\")"
   ]
  },
  {
   "cell_type": "code",
   "execution_count": 65,
   "metadata": {},
   "outputs": [],
   "source": [
    "# Realizar modelo de regresion lineal de edad de hombre\n",
    "y = edad_hombre\n",
    "X = dataframe"
   ]
  },
  {
   "attachments": {},
   "cell_type": "markdown",
   "metadata": {},
   "source": [
    "Modelo tuneado 1 (Para hombre)"
   ]
  },
  {
   "cell_type": "code",
   "execution_count": 66,
   "metadata": {},
   "outputs": [],
   "source": [
    "X_train, X_test,y_train, y_test = train_test_split(X, y, test_size=0.3, train_size=0.7)"
   ]
  },
  {
   "cell_type": "code",
   "execution_count": 67,
   "metadata": {},
   "outputs": [
    {
     "name": "stdout",
     "output_type": "stream",
     "text": [
      "RMSE Ridge: 5.6845144353430905\n",
      "RMSE Lasso: 5.687254749601897\n",
      "\n",
      "R cuadrado Ridge: 0.7452409931686881\n",
      "R cuadrado Lasso: 0.744995312375013\n"
     ]
    }
   ],
   "source": [
    "# Crear un modelo de regresión Ridge\n",
    "ridge = Ridge()\n",
    "\n",
    "# Definir la grilla de hiperparámetros a explorar\n",
    "param_grid = {'alpha': [0.1, 1.0, 10.0]}\n",
    "\n",
    "# Realizar búsqueda en cuadrícula para ajustar los hiperparámetros\n",
    "grid_search = GridSearchCV(estimator=ridge, param_grid=param_grid, cv=5)\n",
    "grid_search.fit(X_train, y_train)\n",
    "\n",
    "# Obtener los mejores hiperparámetros encontrados\n",
    "best_params = grid_search.best_params_\n",
    "\n",
    "# Crear un modelo de regresión Lasso\n",
    "lasso = Lasso()\n",
    "\n",
    "# Realizar búsqueda en cuadrícula para ajustar los hiperparámetros\n",
    "grid_search = GridSearchCV(estimator=lasso, param_grid=param_grid, cv=5)\n",
    "grid_search.fit(X_train, y_train)\n",
    "\n",
    "# Obtener los mejores hiperparámetros encontrados\n",
    "best_params = grid_search.best_params_\n",
    "\n",
    "# Entrenar y evaluar los modelos con los mejores hiperparámetros encontrados\n",
    "ridge = Ridge(alpha=best_params['alpha'])\n",
    "ridge.fit(X_train, y_train)\n",
    "ridge_predictions = ridge.predict(X_test)\n",
    "ridge_rmse = mean_squared_error(y_test, ridge_predictions, squared=False)\n",
    "ridge_r2 = r2_score(y_test, ridge_predictions)\n",
    "\n",
    "lasso = Lasso(alpha=best_params['alpha'])\n",
    "lasso.fit(X_train, y_train)\n",
    "lasso_predictions = lasso.predict(X_test)\n",
    "lasso_rmse = mean_squared_error(y_test, lasso_predictions, squared=False)\n",
    "lasso_r2 = r2_score(y_test, lasso_predictions)\n",
    "\n",
    "print(\"RMSE Ridge:\", ridge_rmse)\n",
    "print(\"RMSE Lasso:\", lasso_rmse)\n",
    "\n",
    "print(\"\\nR cuadrado Ridge:\", ridge_r2)\n",
    "print(\"R cuadrado Lasso:\", lasso_r2)"
   ]
  },
  {
   "attachments": {},
   "cell_type": "markdown",
   "metadata": {},
   "source": [
    "Modelo tuneado 2 (Para hombre)"
   ]
  },
  {
   "cell_type": "code",
   "execution_count": 68,
   "metadata": {},
   "outputs": [
    {
     "name": "stdout",
     "output_type": "stream",
     "text": [
      "Precisión del modelo: 0.753198411571103\n"
     ]
    }
   ],
   "source": [
    "# Generar características polinómicas\n",
    "poly_features = PolynomialFeatures(degree=2)\n",
    "X_poly = poly_features.fit_transform(X)\n",
    "\n",
    "# Dividir el conjunto de datos en entrenamiento y prueba\n",
    "X_train, X_test, y_train, y_test = train_test_split(X_poly, y, test_size=0.3, random_state=42)\n",
    "\n",
    "# Entrenar el modelo de regresión lineal\n",
    "model = LinearRegression()\n",
    "model.fit(X_train, y_train)\n",
    "\n",
    "# Calcular la precisión del modelo\n",
    "accuracy = model.score(X_test, y_test)\n",
    "print(\"Precisión del modelo:\", accuracy)"
   ]
  }
 ],
 "metadata": {
  "kernelspec": {
   "display_name": "Python 3",
   "language": "python",
   "name": "python3"
  },
  "language_info": {
   "codemirror_mode": {
    "name": "ipython",
    "version": 3
   },
   "file_extension": ".py",
   "mimetype": "text/x-python",
   "name": "python",
   "nbconvert_exporter": "python",
   "pygments_lexer": "ipython3",
   "version": "3.10.6"
  },
  "orig_nbformat": 4
 },
 "nbformat": 4,
 "nbformat_minor": 2
}
