{
 "cells": [
  {
   "attachments": {},
   "cell_type": "markdown",
   "metadata": {},
   "source": [
    "# Regresiones Lineales"
   ]
  },
  {
   "cell_type": "code",
   "execution_count": 66,
   "metadata": {},
   "outputs": [],
   "source": [
    "# importar librerias\n",
    "%matplotlib inline\n",
    "import matplotlib.pyplot as plt\n",
    "import numpy as np\n",
    "import statsmodels.api as sm\n",
    "import statsmodels.stats.diagnostic as smd\n",
    "import pandas as pd\n",
    "from sklearn.linear_model import LinearRegression\n",
    "from sklearn import datasets\n",
    "from sklearn.model_selection import train_test_split\n",
    "from sklearn.metrics import mean_squared_error,r2_score\n",
    "from sklearn.linear_model import Ridge\n",
    "import seaborn as sns\n",
    "import statsmodels.api as sm\n",
    "from statsmodels.graphics.gofplots import qqplot\n",
    "import scipy.stats as stats\n",
    "import statsmodels.stats.diagnostic as diag\n",
    "from scipy.stats import normaltest"
   ]
  },
  {
   "cell_type": "code",
   "execution_count": 67,
   "metadata": {},
   "outputs": [],
   "source": [
    "dataframe = pd.read_csv(\"data_no_codificada.csv\")"
   ]
  },
  {
   "attachments": {},
   "cell_type": "markdown",
   "metadata": {},
   "source": [
    "### Regresion Lineal para Edad de Hombre"
   ]
  },
  {
   "cell_type": "code",
   "execution_count": 68,
   "metadata": {},
   "outputs": [],
   "source": [
    "if('diferenciaEdad' in dataframe):\n",
    "    dataframe.pop(\"diferenciaEdad\")\n"
   ]
  },
  {
   "cell_type": "code",
   "execution_count": 69,
   "metadata": {},
   "outputs": [],
   "source": [
    "if('edadHombre' in dataframe):\n",
    "    edad_hombre = dataframe.pop(\"edadHombre\")"
   ]
  },
  {
   "cell_type": "code",
   "execution_count": 70,
   "metadata": {},
   "outputs": [],
   "source": [
    "# Realizar modelo de regresion lineal de edad de hombre\n",
    "y = edad_hombre\n",
    "X = dataframe"
   ]
  },
  {
   "cell_type": "code",
   "execution_count": 71,
   "metadata": {},
   "outputs": [],
   "source": [
    "X_train, X_test,y_train, y_test = train_test_split(X, y, test_size=0.3, train_size=0.7)"
   ]
  },
  {
   "cell_type": "code",
   "execution_count": 72,
   "metadata": {},
   "outputs": [],
   "source": [
    "# Preparando Regresion Lineal\n",
    "p_length = y_train.values.reshape(-1,1)\n",
    "p_length_t = y_test.values.reshape(-1,1)\n",
    "lm = LinearRegression()\n",
    "lm.fit(X_train, p_length)\n",
    "p_length_pred = lm.predict(X_test)"
   ]
  },
  {
   "cell_type": "code",
   "execution_count": 73,
   "metadata": {},
   "outputs": [],
   "source": [
    "# Creando una ecuacion para la regresion lineal\n",
    "# y = mx + c\n",
    "m = lm.coef_[0][0]\n",
    "c = lm.intercept_[0]"
   ]
  },
  {
   "cell_type": "code",
   "execution_count": 74,
   "metadata": {},
   "outputs": [
    {
     "name": "stdout",
     "output_type": "stream",
     "text": [
      "Mean Squared Error: 32.42\n",
      "R squared: 0.74\n"
     ]
    }
   ],
   "source": [
    "print(\"Mean Squared Error: %.2f\"%mean_squared_error(p_length_t,p_length_pred))\n",
    "print(\"R squared: %.2f\"%r2_score(p_length_t,p_length_pred))"
   ]
  },
  {
   "attachments": {},
   "cell_type": "markdown",
   "metadata": {},
   "source": [
    "Como se puede apreciar el error cuadratico medio (MSE) fue de \"32.82\"."
   ]
  },
  {
   "attachments": {},
   "cell_type": "markdown",
   "metadata": {},
   "source": [
    "### Regresion Lineal para Edad de Mujer"
   ]
  },
  {
   "cell_type": "code",
   "execution_count": 75,
   "metadata": {},
   "outputs": [],
   "source": [
    "dataframe = pd.read_csv(\"data_no_codificada.csv\") # \"Reiniciar\" dataframe"
   ]
  },
  {
   "cell_type": "code",
   "execution_count": 76,
   "metadata": {},
   "outputs": [],
   "source": [
    "if('diferenciaEdad' in dataframe):\n",
    "    dataframe.pop(\"diferenciaEdad\")"
   ]
  },
  {
   "cell_type": "code",
   "execution_count": 77,
   "metadata": {},
   "outputs": [],
   "source": [
    "if('edadMujer' in dataframe): # Regresion lineal con la edad de mujer\n",
    "    edad_mujer = dataframe.pop(\"edadMujer\")"
   ]
  },
  {
   "cell_type": "code",
   "execution_count": 78,
   "metadata": {},
   "outputs": [],
   "source": [
    "# realizar modelo de regresión lineal de edad de Mujer\n",
    "y = edad_mujer\n",
    "X = dataframe"
   ]
  },
  {
   "cell_type": "code",
   "execution_count": 79,
   "metadata": {},
   "outputs": [],
   "source": [
    "X_train, X_test,y_train, y_test = train_test_split(X, y, test_size=0.3, train_size=0.7)"
   ]
  },
  {
   "cell_type": "code",
   "execution_count": 80,
   "metadata": {},
   "outputs": [],
   "source": [
    "# Preparando Regresion Lineal\n",
    "p_length = y_train.values.reshape(-1,1)\n",
    "p_length_t = y_test.values.reshape(-1,1)\n",
    "lm = LinearRegression()\n",
    "lm.fit(X_train, p_length)\n",
    "p_length_pred = lm.predict(X_test)"
   ]
  },
  {
   "cell_type": "code",
   "execution_count": 81,
   "metadata": {},
   "outputs": [],
   "source": [
    "# Creando una ecuacion para la regresion lineal\n",
    "# y = mx + c\n",
    "m = lm.coef_[0][0]\n",
    "c = lm.intercept_[0]"
   ]
  },
  {
   "cell_type": "code",
   "execution_count": 82,
   "metadata": {},
   "outputs": [
    {
     "name": "stdout",
     "output_type": "stream",
     "text": [
      "Mean Squared Error: 25.97\n",
      "R squared: 0.74\n"
     ]
    }
   ],
   "source": [
    "print(\"Mean Squared Error: %.2f\"%mean_squared_error(p_length_t,p_length_pred))\n",
    "print(\"R squared: %.2f\"%r2_score(p_length_t,p_length_pred))"
   ]
  },
  {
   "attachments": {},
   "cell_type": "markdown",
   "metadata": {},
   "source": [
    "El error cuadratico medio (MSE) fue de \"25.84\"."
   ]
  }
 ],
 "metadata": {
  "kernelspec": {
   "display_name": "Python 3",
   "language": "python",
   "name": "python3"
  },
  "language_info": {
   "codemirror_mode": {
    "name": "ipython",
    "version": 3
   },
   "file_extension": ".py",
   "mimetype": "text/x-python",
   "name": "python",
   "nbconvert_exporter": "python",
   "pygments_lexer": "ipython3",
   "version": "3.10.6"
  },
  "orig_nbformat": 4
 },
 "nbformat": 4,
 "nbformat_minor": 2
}
