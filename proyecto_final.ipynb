{
 "cells": [
  {
   "attachments": {},
   "cell_type": "markdown",
   "metadata": {},
   "source": [
    "## PROYECTO 1 - MINERIA DE DATOS"
   ]
  },
  {
   "cell_type": "code",
   "execution_count": 2,
   "metadata": {},
   "outputs": [],
   "source": [
    "# Importando librerias necesarias\n",
    "import pandas as pd"
   ]
  },
  {
   "cell_type": "code",
   "execution_count": 21,
   "metadata": {},
   "outputs": [],
   "source": [
    "# Cargando el data\n",
    "data_2011 = pd.read_spss('matrimonio2011.sav')\n",
    "data_2011 = pd.DataFrame(data_2011)\n",
    "\n",
    "data_2012 = pd.read_spss('matrimonio2012.sav')\n",
    "data_2012 = pd.DataFrame(data_2012)\n",
    "\n",
    "data_2013 = pd.read_spss('matrimonio2013.sav')\n",
    "data_2013 = pd.DataFrame(data_2013)\n",
    "\n",
    "data_2014 = pd.read_spss('matrimonio2014.sav')\n",
    "data_2014 = pd.DataFrame(data_2014)\n",
    "\n",
    "data_2015 = pd.read_spss('matrimonio2015.sav')\n",
    "data_2015 = pd.DataFrame(data_2015)\n",
    "\n",
    "data_2016 = pd.read_spss('matrimonio2016.sav')\n",
    "data_2016 = pd.DataFrame(data_2016)\n",
    "\n",
    "data_2017 = pd.read_spss('matrimonio2017.sav')\n",
    "data_2017 = pd.DataFrame(data_2017)\n",
    "\n",
    "data_2018 = pd.read_spss('matrimonio2018.sav')\n",
    "data_2018 = pd.DataFrame(data_2018)\n",
    "\n",
    "data_2019 = pd.read_spss('matrimonio2019.sav')\n",
    "data_2019 = pd.DataFrame(data_2019)\n",
    "\n",
    "data_2020 = pd.read_spss('matrimonio2020.sav')\n",
    "data_2020 = pd.DataFrame(data_2020)\n",
    "\n",
    "data_2021 = pd.read_spss('matrimonio2021.sav')\n",
    "data_2021 = pd.DataFrame(data_2021)\n"
   ]
  },
  {
   "cell_type": "code",
   "execution_count": 36,
   "metadata": {},
   "outputs": [
    {
     "data": {
      "text/plain": [
       "Gethom\n",
       "No indigena    35171\n",
       "Indigena       27075\n",
       "Ignorado       16040\n",
       "Name: count, dtype: int64"
      ]
     },
     "execution_count": 36,
     "metadata": {},
     "output_type": "execute_result"
    }
   ],
   "source": [
    "data_2011['Gethom'].value_counts()"
   ]
  },
  {
   "cell_type": "code",
   "execution_count": 37,
   "metadata": {},
   "outputs": [],
   "source": [
    "# Limpieza data - 2011\n",
    "\n",
    "data_2011['grupoEtnicoHombre'] = 0\n",
    "GETHOM = list(set(gh for gh in data_2011['Gethom']))\n",
    "for indx, gh in enumerate(GETHOM):\n",
    "    if gh == 'No indigena':\n",
    "        data_2011.loc[data_2011['Gethom'] == gh, \"grupoEtnicoHombre\"] = 1\n",
    "    elif gh == 'Indigena':\n",
    "        data_2011.loc[data_2011['Gethom'] == gh, \"grupoEtnicoHombre\"] = 2\n",
    "\n",
    "data_2011['grupoEtnicoMujer'] = 0\n",
    "GETMUJ = list(set(gh for gh in data_2011['Getmuj']))\n",
    "for indx, gh in enumerate(GETMUJ):\n",
    "    if gh == 'No indigena':\n",
    "        data_2011.loc[data_2011['Getmuj'] == gh, \"grupoEtnicoMujer\"] = 1\n",
    "    elif gh == 'Indigena':\n",
    "        data_2011.loc[data_2011['Getmuj'] == gh, \"grupoEtnicoMujer\"] = 2\n",
    "\n"
   ]
  },
  {
   "cell_type": "code",
   "execution_count": 39,
   "metadata": {},
   "outputs": [
    {
     "data": {
      "text/plain": [
       "GETMUJ\n",
       "No indigena    39785\n",
       "Indigena       28893\n",
       "Ignorado       15575\n",
       "Name: count, dtype: int64"
      ]
     },
     "execution_count": 39,
     "metadata": {},
     "output_type": "execute_result"
    }
   ],
   "source": [
    "data_2012['GETMUJ'].value_counts()"
   ]
  },
  {
   "cell_type": "code",
   "execution_count": 50,
   "metadata": {},
   "outputs": [
    {
     "data": {
      "text/plain": [
       "grupoEtnicoMujer\n",
       "1    39785\n",
       "2    28893\n",
       "0    15575\n",
       "Name: count, dtype: int64"
      ]
     },
     "execution_count": 50,
     "metadata": {},
     "output_type": "execute_result"
    }
   ],
   "source": [
    "# Limpieza data - 2012\n",
    "\n",
    "data_2012['grupoEtnicoHombre'] = 0\n",
    "GETHOM = list(set(gh for gh in data_2012['GETHOM']))\n",
    "for indx, gh in enumerate(GETHOM):\n",
    "    if gh == 'No indigena':\n",
    "        data_2012.loc[data_2012['GETHOM'] == gh, \"grupoEtnicoHombre\"] = 1\n",
    "    elif gh == 'Indigena':\n",
    "        data_2012.loc[data_2012['GETHOM'] == gh, \"grupoEtnicoHombre\"] = 2\n",
    "\n",
    "\n",
    "data_2012['grupoEtnicoMujer'] = 0\n",
    "GETMUJ = list(set(gh for gh in data_2012['GETMUJ']))\n",
    "for indx, gh in enumerate(GETMUJ):\n",
    "    if gh == 'No indigena':\n",
    "        data_2012.loc[data_2012['GETMUJ'] == gh, \"grupoEtnicoMujer\"] = 1\n",
    "    elif gh == 'Indigena':\n",
    "        data_2012.loc[data_2012['GETMUJ'] == gh, \"grupoEtnicoMujer\"] = 2\n",
    "\n",
    "data_2012['grupoEtnicoMujer'].value_counts()"
   ]
  },
  {
   "cell_type": "code",
   "execution_count": 42,
   "metadata": {},
   "outputs": [
    {
     "data": {
      "text/plain": [
       "PUEMUJ\n",
       "Mestizo / Ladino    42516\n",
       "Maya                27679\n",
       "Ignorado            10170\n",
       "Otro                  342\n",
       "Garífuna               26\n",
       "Xinka                  17\n",
       "Name: count, dtype: int64"
      ]
     },
     "execution_count": 42,
     "metadata": {},
     "output_type": "execute_result"
    }
   ],
   "source": [
    "data_2013['PUEMUJ'].value_counts()"
   ]
  },
  {
   "cell_type": "code",
   "execution_count": 44,
   "metadata": {},
   "outputs": [
    {
     "data": {
      "text/plain": [
       "grupoEtnicoHombre\n",
       "1    44865\n",
       "2    29428\n",
       "0     6457\n",
       "Name: count, dtype: int64"
      ]
     },
     "execution_count": 44,
     "metadata": {},
     "output_type": "execute_result"
    }
   ],
   "source": [
    "# Limpieza data - 2013\n",
    "\n",
    "data_2013['grupoEtnicoHombre'] = 0\n",
    "GETHOM = list(set(gh for gh in data_2013['PUEHOM']))\n",
    "for indx, gh in enumerate(GETHOM):\n",
    "    if gh == 'Mestizo / Ladino':\n",
    "        data_2013.loc[data_2013['PUEHOM'] == gh, \"grupoEtnicoHombre\"] = 1\n",
    "    elif gh == 'Maya':\n",
    "        data_2013.loc[data_2013['PUEHOM'] == gh, \"grupoEtnicoHombre\"] = 2\n",
    "    elif gh == 'Garífuna':\n",
    "        data_2013.loc[data_2013['PUEHOM'] == gh, \"grupoEtnicoHombre\"] = 2\n",
    "    elif gh == 'Xinca':\n",
    "        data_2013.loc[data_2013['PUEHOM'] == gh, \"grupoEtnicoHombre\"] = 2\n",
    "\n",
    "\n",
    "data_2013['grupoEtnicoMujer'] = 0\n",
    "GETMUJ = list(set(gh for gh in data_2013['PUEMUJ']))\n",
    "for indx, gh in enumerate(GETMUJ):\n",
    "    if gh == 'Mestizo / Ladino':\n",
    "        data_2013.loc[data_2013['PUEMUJ'] == gh, \"grupoEtnicoMujer\"] = 1\n",
    "    elif gh == 'Maya':\n",
    "        data_2013.loc[data_2013['PUEMUJ'] == gh, \"grupoEtnicoMujer\"] = 2\n",
    "    elif gh == 'Garífuna':\n",
    "        data_2013.loc[data_2013['PUEMUJ'] == gh, \"grupoEtnicoMujer\"] = 2\n",
    "    elif gh == 'Xinca':\n",
    "        data_2013.loc[data_2013['PUEMUJ'] == gh, \"grupoEtnicoMujer\"] = 2\n",
    "\n",
    "data_2013['grupoEtnicoHombre'].value_counts()\n",
    "\n",
    "        "
   ]
  },
  {
   "cell_type": "code",
   "execution_count": 11,
   "metadata": {},
   "outputs": [
    {
     "data": {
      "text/plain": [
       "PUEHOM\n",
       "Mestizo / Ladino    45464\n",
       "Maya                29188\n",
       "Ignorado             4385\n",
       "Otro                  408\n",
       "Garífuna               30\n",
       "Xinka                  21\n",
       "Name: count, dtype: int64"
      ]
     },
     "execution_count": 11,
     "metadata": {},
     "output_type": "execute_result"
    }
   ],
   "source": [
    "data_2014['PUEHOM'].value_counts()"
   ]
  },
  {
   "cell_type": "code",
   "execution_count": 48,
   "metadata": {},
   "outputs": [
    {
     "data": {
      "text/plain": [
       "grupoEtnicoHombre\n",
       "1    45464\n",
       "2    29218\n",
       "0     4814\n",
       "Name: count, dtype: int64"
      ]
     },
     "execution_count": 48,
     "metadata": {},
     "output_type": "execute_result"
    }
   ],
   "source": [
    "# Limpieza data - 2014\n",
    "\n",
    "data_2014['grupoEtnicoHombre'] = 0\n",
    "GETHOM = list(set(gh for gh in data_2014['PUEHOM']))\n",
    "for indx, gh in enumerate(GETHOM):\n",
    "    if gh == 'Mestizo / Ladino':\n",
    "        data_2014.loc[data_2014['PUEHOM'] == gh, \"grupoEtnicoHombre\"] = 1\n",
    "    elif gh == 'Maya':\n",
    "        data_2014.loc[data_2014['PUEHOM'] == gh, \"grupoEtnicoHombre\"] = 2\n",
    "    elif gh == 'Garífuna':\n",
    "        data_2014.loc[data_2014['PUEHOM'] == gh, \"grupoEtnicoHombre\"] = 2\n",
    "    elif gh == 'Xinca':\n",
    "        data_2014.loc[data_2014['PUEHOM'] == gh, \"grupoEtnicoHombre\"] = 2\n",
    "\n",
    "data_2014['grupoEtnicoMujer'] = 0\n",
    "GETMUJ = list(set(gh for gh in data_2014['PUEMUJ']))\n",
    "for indx, gh in enumerate(GETMUJ):\n",
    "    if gh == 'Mestizo / Ladino':\n",
    "        data_2014.loc[data_2014['PUEMUJ'] == gh, \"grupoEtnicoMujer\"] = 1\n",
    "    elif gh == 'Maya':\n",
    "        data_2014.loc[data_2014['PUEMUJ'] == gh, \"grupoEtnicoMujer\"] = 2\n",
    "    elif gh == 'Garífuna':\n",
    "        data_2014.loc[data_2014['PUEMUJ'] == gh, \"grupoEtnicoMujer\"] = 2\n",
    "    elif gh == 'Xinca':\n",
    "        data_2014.loc[data_2014['PUEMUJ'] == gh, \"grupoEtnicoMujer\"] = 2\n",
    "\n"
   ]
  },
  {
   "cell_type": "code",
   "execution_count": 12,
   "metadata": {},
   "outputs": [
    {
     "data": {
      "text/plain": [
       "PUEHOM\n",
       "Mestizo / Ladino    44756\n",
       "Maya                29146\n",
       "Ignorado             4322\n",
       "Otro                  911\n",
       "Garífuna               22\n",
       "Xinka                  20\n",
       "Name: count, dtype: int64"
      ]
     },
     "execution_count": 12,
     "metadata": {},
     "output_type": "execute_result"
    }
   ],
   "source": [
    "data_2015['PUEHOM'].value_counts()"
   ]
  },
  {
   "cell_type": "code",
   "execution_count": 13,
   "metadata": {},
   "outputs": [
    {
     "data": {
      "text/plain": [
       "PUEHOM\n",
       "Mestizo / Ladino    40262\n",
       "Maya                25028\n",
       "Ignorado             3333\n",
       "Otro                  938\n",
       "Garífuna               31\n",
       "Xinka                  21\n",
       "Name: count, dtype: int64"
      ]
     },
     "execution_count": 13,
     "metadata": {},
     "output_type": "execute_result"
    }
   ],
   "source": [
    "data_2016['PUEHOM'].value_counts()"
   ]
  },
  {
   "cell_type": "code",
   "execution_count": 14,
   "metadata": {},
   "outputs": [
    {
     "data": {
      "text/plain": [
       "PUEHOM\n",
       "Ladino / Mestizo    40366\n",
       "Maya                26024\n",
       "Ignorado             3952\n",
       "Otro                 1215\n",
       "Garífuna               20\n",
       "Xinca                  20\n",
       "Name: count, dtype: int64"
      ]
     },
     "execution_count": 14,
     "metadata": {},
     "output_type": "execute_result"
    }
   ],
   "source": [
    "data_2017['PUEHOM'].value_counts()"
   ]
  },
  {
   "cell_type": "code",
   "execution_count": 15,
   "metadata": {},
   "outputs": [
    {
     "data": {
      "text/plain": [
       "PUEHOM\n",
       "Ladino / Mestizo    41016\n",
       "Maya                27531\n",
       "Ignorado             4448\n",
       "Otro                 1723\n",
       "Xinca                  45\n",
       "Garífuna               14\n",
       "Name: count, dtype: int64"
      ]
     },
     "execution_count": 15,
     "metadata": {},
     "output_type": "execute_result"
    }
   ],
   "source": [
    "data_2018['PUEHOM'].value_counts()"
   ]
  },
  {
   "cell_type": "code",
   "execution_count": 16,
   "metadata": {},
   "outputs": [
    {
     "data": {
      "text/plain": [
       "PUEHOM\n",
       "Ladino / Mestizo    41811\n",
       "Maya                28147\n",
       "Ignorado             4934\n",
       "Otro                 1963\n",
       "Xinca                  57\n",
       "Garífuna               16\n",
       "Name: count, dtype: int64"
      ]
     },
     "execution_count": 16,
     "metadata": {},
     "output_type": "execute_result"
    }
   ],
   "source": [
    "data_2019['PUEHOM'].value_counts()"
   ]
  },
  {
   "cell_type": "code",
   "execution_count": 17,
   "metadata": {},
   "outputs": [
    {
     "data": {
      "text/plain": [
       "PUEHOM\n",
       "Ladino / Mestizo    29945\n",
       "Maya                21378\n",
       "Ignorado             4440\n",
       "Otro                 1574\n",
       "Xinka                  38\n",
       "Garífuna               12\n",
       "Name: count, dtype: int64"
      ]
     },
     "execution_count": 17,
     "metadata": {},
     "output_type": "execute_result"
    }
   ],
   "source": [
    "data_2020['PUEHOM'].value_counts()"
   ]
  },
  {
   "cell_type": "code",
   "execution_count": 18,
   "metadata": {},
   "outputs": [
    {
     "data": {
      "text/plain": [
       "PUEHOM\n",
       "Ladino / Mestizo    45370\n",
       "Maya                32652\n",
       "Ignorado             6795\n",
       "Otro                 2507\n",
       "Xinka                 126\n",
       "Garífuna               30\n",
       "Name: count, dtype: int64"
      ]
     },
     "execution_count": 18,
     "metadata": {},
     "output_type": "execute_result"
    }
   ],
   "source": [
    "data_2021['PUEHOM'].value_counts()"
   ]
  }
 ],
 "metadata": {
  "kernelspec": {
   "display_name": "Python 3",
   "language": "python",
   "name": "python3"
  },
  "language_info": {
   "codemirror_mode": {
    "name": "ipython",
    "version": 3
   },
   "file_extension": ".py",
   "mimetype": "text/x-python",
   "name": "python",
   "nbconvert_exporter": "python",
   "pygments_lexer": "ipython3",
   "version": "3.11.3"
  },
  "orig_nbformat": 4
 },
 "nbformat": 4,
 "nbformat_minor": 2
}
