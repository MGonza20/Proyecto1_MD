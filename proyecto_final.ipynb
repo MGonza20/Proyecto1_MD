{
 "cells": [
  {
   "attachments": {},
   "cell_type": "markdown",
   "metadata": {},
   "source": [
    "## PROYECTO 1 - MINERIA DE DATOS"
   ]
  },
  {
   "cell_type": "code",
   "execution_count": 2,
   "metadata": {},
   "outputs": [],
   "source": [
    "# Importando librerias necesarias\n",
    "import pandas as pd"
   ]
  },
  {
   "cell_type": "code",
   "execution_count": 3,
   "metadata": {},
   "outputs": [],
   "source": [
    "# Cargando el data\n",
    "data_2011 = pd.read_spss('matrimonio2011.sav')\n",
    "data_2011 = pd.DataFrame(data_2011)\n",
    "\n",
    "data_2012 = pd.read_spss('matrimonio2012.sav')\n",
    "data_2012 = pd.DataFrame(data_2012)\n",
    "\n",
    "data_2013 = pd.read_spss('matrimonio2013.sav')\n",
    "data_2013 = pd.DataFrame(data_2013)\n",
    "\n",
    "data_2014 = pd.read_spss('matrimonio2014.sav')\n",
    "data_2014 = pd.DataFrame(data_2014)\n",
    "\n",
    "data_2015 = pd.read_spss('matrimonio2015.sav')\n",
    "data_2015 = pd.DataFrame(data_2015)\n",
    "\n",
    "data_2016 = pd.read_spss('matrimonio2016.sav')\n",
    "data_2016 = pd.DataFrame(data_2016)\n",
    "\n",
    "data_2017 = pd.read_spss('matrimonio2017.sav')\n",
    "data_2017 = pd.DataFrame(data_2017)\n",
    "\n",
    "data_2018 = pd.read_spss('matrimonio2018.sav')\n",
    "data_2018 = pd.DataFrame(data_2018)\n",
    "\n",
    "data_2019 = pd.read_spss('matrimonio2019.sav')\n",
    "data_2019 = pd.DataFrame(data_2019)\n",
    "\n",
    "data_2020 = pd.read_spss('matrimonio2020.sav')\n",
    "data_2020 = pd.DataFrame(data_2020)\n",
    "\n",
    "data_2021 = pd.read_spss('matrimonio2021.sav')\n",
    "data_2021 = pd.DataFrame(data_2021)\n"
   ]
  },
  {
   "cell_type": "code",
   "execution_count": 114,
   "metadata": {},
   "outputs": [],
   "source": [
    "# Limpieza data - 2011\n",
    "\n",
    "columns_use_2011 = []\n",
    "\n",
    "# Uso de data solamente de personas guatemaltecas\n",
    "data_2011 = data_2011[data_2011['Nachom'] == 'Guatemala']\n",
    "data_2011 = data_2011[data_2011['Nacmuj'] == 'Guatemala']\n",
    "\n",
    "# Clase de union en matrimonio\n",
    "union_tipos_2011 = {'Comunidad de gananciales': 1, 'Comunidad absoluta': 2, 'Separación absoluta': 3}\n",
    "data_2011['claseUnion'] = data_2011['Clauni'].apply(lambda x: union_tipos_2011.get(x, 0))\n",
    "columns_use_2011.append('claseUnion')\n",
    "\n",
    "# Grupo etnico de hombre y mujer\n",
    "grupos_etnicos_2011 = {'No indigena': 1, 'Indigena': 2}\n",
    "data_2011['grupoEtnicoHombre'] = data_2011['Gethom'].apply(lambda x: grupos_etnicos_2011.get(x, 0))\n",
    "data_2011['grupoEtnicoMujer'] = data_2011['Getmuj'].apply(lambda x: grupos_etnicos_2011.get(x, 0))\n",
    "columns_use_2011.extend(['grupoEtnicoMujer', 'grupoEtnicoHombre'])\n",
    "\n",
    "# Edad del hombre \n",
    "data_2011['edadHombre'] = data_2011['Edadhom']\n",
    "columns_use_2011.append('edadHombre')\n",
    "\n",
    "# Edad de la mujer\n",
    "data_2011['edadMujer'] = data_2011['Edadmuj']\n",
    "columns_use_2011.append('edadMujer')\n",
    "\n",
    "# Nivel de educacion del hombre y de la mujer\n",
    "educacion_tipos_2011 = {'Ninguno': 1, 'Primaria': 2, 'Básico': 3, 'Diversificado': 4, 'Universitario': 5}\n",
    "data_2011['educacionHombre'] = data_2011['Eschom'].apply(lambda x: educacion_tipos_2011.get(x, 0))\n",
    "data_2011['educacionMujer'] = data_2011['Escmuj'].apply(lambda x: educacion_tipos_2011.get(x, 0))\n",
    "columns_use_2011.extend(['educacionHombre', 'educacionMujer'])\n"
   ]
  },
  {
   "cell_type": "code",
   "execution_count": 122,
   "metadata": {},
   "outputs": [],
   "source": [
    "# Limpieza data - 2012\n",
    "\n",
    "columns_use_2012 = []\n",
    "\n",
    "# Uso de data solamente de personas guatemaltecas\n",
    "data_2012 = data_2012[data_2012['NACHOM'] == 'Guatemala']\n",
    "data_2012 = data_2012[data_2012['NACMUJ'] == 'Guatemala']\n",
    "\n",
    "# Clase de union en matrimonio\n",
    "union_tipos_2012 = {'Comunidad de gananciales': 1, 'Comunidad absoluta': 2, 'Separación absoluta': 3}\n",
    "data_2012['claseUnion'] = data_2012['CLAUNI'].apply(lambda x: union_tipos_2012.get(x, 0))\n",
    "columns_use_2012.append('claseUnion')\n",
    "\n",
    "# Grupo etnico de hombre y mujer\n",
    "grupos_etnicos_2012 = {'No indigena': 1, 'Indigena': 2}\n",
    "data_2012['grupoEtnicoHombre'] = data_2012['GETHOM'].apply(lambda x: grupos_etnicos_2012.get(x, 0))\n",
    "data_2012['grupoEtnicoMujer'] = data_2012['GETMUJ'].apply(lambda x: grupos_etnicos_2012.get(x, 0))\n",
    "columns_use_2012.extend(['grupoEtnicoMujer', 'grupoEtnicoHombre'])\n",
    "\n",
    "# Edad del hombre\n",
    "data_2012['edadHombre'] = data_2012['EDADHOM']\n",
    "columns_use_2012.append('edadHombre')\n",
    "\n",
    "# Edad de la mujer\n",
    "data_2012['edadMujer'] = data_2012['EDADMUJ']\n",
    "columns_use_2012.append('edadMujer')\n",
    "\n",
    "# Nivel de educacion del hombre y de la mujer\n",
    "educacion_tipos_2012 = {'Ninguno': 1, 'Primaria': 2, 'Básico': 3, 'Diversificado': 4, 'Universitario': 5}\n",
    "data_2012['educacionHombre'] = data_2012['ESCHOM'].apply(lambda x: educacion_tipos_2012.get(x, 0))\n",
    "data_2012['educacionMujer'] = data_2012['ESCMUJ'].apply(lambda x: educacion_tipos_2012.get(x, 0))\n",
    "columns_use_2012.extend(['educacionHombre', 'educacionMujer'])\n"
   ]
  },
  {
   "cell_type": "code",
   "execution_count": 130,
   "metadata": {},
   "outputs": [],
   "source": [
    "# Limpieza data - 2013\n",
    "\n",
    "columns_use_2013 = []\n",
    "\n",
    "# Uso de data solamente de personas guatemaltecas\n",
    "data_2013 = data_2013[data_2013['NACHOM'] == 'Guatemala']\n",
    "data_2013 = data_2013[data_2013['NACMUJ'] == 'Guatemala']\n",
    "\n",
    "# Clase de union en matrimonio\n",
    "union_tipos_2013 = {'Comunidad de gananciales': 1, 'Comunidad absoluta': 2, 'Separación absoluta': 3}\n",
    "data_2013['claseUnion'] = data_2013['CLAUNI'].apply(lambda x: union_tipos_2013.get(x, 0))\n",
    "columns_use_2013.append('claseUnion')\n",
    "\n",
    "# Grupo etnico de hombre y mujer\n",
    "grupos_etnicos_2013 = {'Mestizo / Ladino': 1, 'Maya': 2, 'Garífuna': 2, 'Xinka': 2}\n",
    "data_2013['grupoEtnicoHombre'] = data_2013['PUEHOM'].apply(lambda x: grupos_etnicos_2013.get(x, 0))\n",
    "data_2013['grupoEtnicoMujer'] = data_2013['PUEMUJ'].apply(lambda x: grupos_etnicos_2013.get(x, 0))\n",
    "columns_use_2013.extend(['grupoEtnicoMujer', 'grupoEtnicoHombre'])\n",
    "\n",
    "# Edad del hombre\n",
    "data_2013['edadHombre'] = data_2013['EDADHOM']\n",
    "columns_use_2013.append('edadHombre')\n",
    "\n",
    "# Edad de la mujer\n",
    "data_2013['edadMujer'] = data_2013['EDADMUJ']\n",
    "columns_use_2013.append('edadMujer')\n",
    "\n",
    "data_2013['ESCMUJ'].value_counts()\n",
    "\n",
    "# Nivel de educacion del hombre y de la mujer\n",
    "educacion_tipos_2013 = {'Ninguno': 1, 'Primaria': 2, 'Básico': 3, 'DIversificado': 4, 'Universitario': 5, 'Postgrado': 6}\n",
    "data_2013['educacionHombre'] = data_2013['ESCHOM'].apply(lambda x: educacion_tipos_2013.get(x, 0))\n",
    "data_2013['educacionMujer'] = data_2013['ESCMUJ'].apply(lambda x: educacion_tipos_2013.get(x, 0))\n",
    "columns_use_2013.extend(['educacionHombre', 'educacionMujer'])\n"
   ]
  },
  {
   "cell_type": "code",
   "execution_count": 139,
   "metadata": {},
   "outputs": [],
   "source": [
    "# Limpieza data - 2014\n",
    "\n",
    "columns_use_2014 = []\n",
    "\n",
    "# Uso de data solamente de personas guatemaltecas\n",
    "data_2014 = data_2014[data_2014['NACHOM'] == 'Guatemala']\n",
    "data_2014 = data_2014[data_2014['NACMUJ'] == 'Guatemala']\n",
    "\n",
    "# Clase de union en matrimonio\n",
    "union_tipos_2014 = {'Comunidad de gananciales': 1, 'Comunidad absoluta': 2, 'Separación absoluta': 3}\n",
    "data_2014['claseUnion'] = data_2014['CLAUNI'].apply(lambda x: union_tipos_2014.get(x, 0))\n",
    "columns_use_2014.append('claseUnion')\n",
    "\n",
    "# Grupo etnico de hombre y mujer\n",
    "grupos_etnicos_2014 = {'Mestizo / Ladino': 1, 'Maya': 2, 'Garífuna': 2, 'Xinka': 2}\n",
    "data_2014['grupoEtnicoHombre'] = data_2014['PUEHOM'].apply(lambda x: grupos_etnicos_2014.get(x, 0))\n",
    "data_2014['grupoEtnicoMujer'] = data_2014['PUEMUJ'].apply(lambda x: grupos_etnicos_2014.get(x, 0))\n",
    "columns_use_2014.extend(['grupoEtnicoMujer', 'grupoEtnicoHombre'])\n",
    "\n",
    "# Edad del hombre\n",
    "data_2014['edadHombre'] = data_2014['EDADHOM']\n",
    "columns_use_2014.append('edadHombre')\n",
    "\n",
    "# Edad de la mujer\n",
    "data_2014['edadMujer'] = data_2014['EDADMUJ']\n",
    "columns_use_2014.append('edadMujer')\n",
    "\n",
    "# Nivel de educacion del hombre y de la mujer\n",
    "educacion_tipos_2014 = {'Ninguno': 1, 'Primaria': 2, 'Básico': 3, 'DIversificado': 4, 'Universitario': 5, 'Postgrado': 6}\n",
    "data_2014['educacionHombre'] = data_2014['ESCHOM'].apply(lambda x: educacion_tipos_2014.get(x, 0))\n",
    "data_2014['educacionMujer'] = data_2014['ESCMUJ'].apply(lambda x: educacion_tipos_2014.get(x, 0))\n",
    "columns_use_2014.extend(['educacionHombre', 'educacionMujer'])\n"
   ]
  },
  {
   "cell_type": "code",
   "execution_count": 147,
   "metadata": {},
   "outputs": [
    {
     "data": {
      "text/plain": [
       "True"
      ]
     },
     "execution_count": 147,
     "metadata": {},
     "output_type": "execute_result"
    }
   ],
   "source": [
    "# Limpieza data - 2015\n",
    "\n",
    "columns_use_2015 = []\n",
    "\n",
    "# Uso de data solamente de personas guatemaltecas\n",
    "data_2015 = data_2015[data_2015['NACHOM'] == 'Guatemala']\n",
    "data_2015 = data_2015[data_2015['NACMUJ'] == 'Guatemala']\n",
    "\n",
    "# Clase de union en matrimonio\n",
    "union_tipos_2015 = {'Comunidad de gananciales': 1, 'Comunidad absoluta': 2, 'Separación absoluta': 3}\n",
    "data_2015['claseUnion'] = data_2015['CLAUNI'].apply(lambda x: union_tipos_2015.get(x, 0))\n",
    "columns_use_2015.append('claseUnion')\n",
    "\n",
    "# Grupo etnico de hombre y mujer\n",
    "grupos_etnicos_2015 = {'Mestizo / Ladino': 1, 'Maya': 2, 'Garífuna': 2, 'Xinka': 2}\n",
    "data_2015['grupoEtnicoHombre'] = data_2015['PUEHOM'].apply(lambda x: grupos_etnicos_2015.get(x, 0))\n",
    "data_2015['grupoEtnicoMujer'] = data_2015['PUEMUJ'].apply(lambda x: grupos_etnicos_2015.get(x, 0))\n",
    "columns_use_2015.extend(['grupoEtnicoMujer', 'grupoEtnicoHombre'])\n",
    "\n",
    "# Edad del hombre\n",
    "data_2015['edadHombre'] = data_2015['EDADHOM']\n",
    "columns_use_2015.append('edadHombre')\n",
    "\n",
    "# Edad de la mujer\n",
    "data_2015['edadMujer'] = data_2015['EDADMUJ']\n",
    "columns_use_2015.append('edadMujer')\n",
    "\n",
    "# Nivel de educacion del hombre y de la mujer\n",
    "educacion_tipos_2015 = {'Ninguno': 1, 'Primaria': 2, 'Básico': 3, 'Diversificado': 4, 'Universitario': 5, 'Postgrado': 6}\n",
    "data_2015['educacionHombre'] = data_2015['ESCHOM'].apply(lambda x: educacion_tipos_2015.get(x, 0))\n",
    "data_2015['educacionMujer'] = data_2015['ESCMUJ'].apply(lambda x: educacion_tipos_2015.get(x, 0))\n",
    "columns_use_2015.extend(['educacionHombre', 'educacionMujer'])\n"
   ]
  },
  {
   "cell_type": "code",
   "execution_count": 151,
   "metadata": {},
   "outputs": [
    {
     "data": {
      "text/plain": [
       "True"
      ]
     },
     "execution_count": 151,
     "metadata": {},
     "output_type": "execute_result"
    }
   ],
   "source": [
    "# Limpieza data - 2016\n",
    "\n",
    "columns_use_2016 = []\n",
    "\n",
    "# Uso de data solamente de personas guatemaltecas\n",
    "data_2016 = data_2016[data_2016['NACHOM'] == 'Guatemala']\n",
    "data_2016 = data_2016[data_2016['NACMUJ'] == 'Guatemala']\n",
    "\n",
    "# Clase de union en matrimonio\n",
    "union_tipos_2016 = {'Comunidad de gananciales': 1, 'Comunidad absoluta': 2, 'Separación absoluta': 3}\n",
    "data_2016['claseUnion'] = data_2016['CLAUNI'].apply(lambda x: union_tipos_2016.get(x, 0))\n",
    "columns_use_2016.append('claseUnion')\n",
    "\n",
    "# Grupo etnico de hombre y mujer\n",
    "grupos_etnicos_2016 = {'Mestizo / Ladino': 1, 'Maya': 2, 'Garífuna': 2, 'Xinka': 2}\n",
    "data_2016['grupoEtnicoHombre'] = data_2016['PUEHOM'].apply(lambda x: grupos_etnicos_2016.get(x, 0))\n",
    "data_2016['grupoEtnicoMujer'] = data_2016['PUEMUJ'].apply(lambda x: grupos_etnicos_2016.get(x, 0))\n",
    "columns_use_2016.extend(['grupoEtnicoMujer', 'grupoEtnicoHombre'])\n",
    "\n",
    "# Edad del hombre\n",
    "data_2016['edadHombre'] = data_2016['EDADHOM']\n",
    "columns_use_2016.append('edadHombre')\n",
    "\n",
    "# Edad de la mujer\n",
    "data_2016['edadMujer'] = data_2016['EDADMUJ']\n",
    "columns_use_2016.append('edadMujer')\n",
    "\n",
    "educacion_tipos_2016 = {'Ninguno': 1, 'Primaria': 2, 'Básico': 3, 'Diversificado': 4, 'Universitario': 5, 'Postgrado': 6}\n",
    "data_2016['educacionHombre'] = data_2016['ESCHOM'].apply(lambda x: educacion_tipos_2016.get(x, 0))\n",
    "data_2016['educacionMujer'] = data_2016['ESCMUJ'].apply(lambda x: educacion_tipos_2016.get(x, 0))\n",
    "columns_use_2016.extend(['educacionHombre', 'educacionMujer'])\n"
   ]
  },
  {
   "cell_type": "code",
   "execution_count": 157,
   "metadata": {},
   "outputs": [],
   "source": [
    "# Limpieza data - 2017\n",
    "\n",
    "columns_use_2017 = []\n",
    "\n",
    "# Uso de data solamente de personas guatemaltecas\n",
    "data_2017 = data_2017[data_2017['NACHOM'] == 'Guatemala']\n",
    "data_2017 = data_2017[data_2017['NACMUJ'] == 'Guatemala']\n",
    "\n",
    "# Clase de union en matrimonio\n",
    "union_tipos_2017 = {'Comunidad de gananciales': 1, 'Comunidad absoluta': 2, 'Separación absoluta': 3}\n",
    "data_2017['claseUnion'] = data_2017['CLAUNI'].apply(lambda x: union_tipos_2017.get(x, 0))\n",
    "columns_use_2017.append('claseUnion')\n",
    "\n",
    "# Grupo etnico de hombre\n",
    "grupos_etnicos_hombre_2017 = {'Ladino / Mestizo': 1, 'Maya': 2, 'Garífuna': 2, 'Xinca': 2}\n",
    "data_2017['grupoEtnicoHombre'] = data_2017['PUEHOM'].apply(lambda x: grupos_etnicos_hombre_2017.get(x, 0))\n",
    "columns_use_2017.append('grupoEtnicoHombre')\n",
    "\n",
    "# Grupo etnico de mujer\n",
    "grupos_etnicos_mujer_2017 = {'Mestizo / Ladino': 1, 'Maya': 2, 'Garífuna': 2, 'Xinca': 2}\n",
    "data_2017['grupoEtnicoMujer'] = data_2017['PUEMUJ'].apply(lambda x: grupos_etnicos_mujer_2017.get(x, 0))\n",
    "columns_use_2017.append('grupoEtnicoMujer')\n",
    "\n",
    "# Edad del hombre\n",
    "data_2017['edadHombre'] = data_2017['EDADHOM']\n",
    "columns_use_2017.append('edadHombre')\n",
    "\n",
    "# Edad de la mujer\n",
    "data_2017['edadMujer'] = data_2017['EDADMUJ']\n",
    "columns_use_2017.append('edadMujer')\n",
    "\n",
    "# Nivel de educacion del hombre y de la mujer\n",
    "educacion_tipos_2017 = {'Ninguno': 1, 'Primaria': 2, 'Básico': 3, 'Diversificado': 4, 'Universitario': 5, 'Postgrado': 6}\n",
    "data_2017['educacionHombre'] = data_2017['ESCHOM'].apply(lambda x: educacion_tipos_2017.get(x, 0))\n",
    "data_2017['educacionMujer'] = data_2017['ESCMUJ'].apply(lambda x: educacion_tipos_2017.get(x, 0))\n",
    "columns_use_2017.extend(['educacionHombre', 'educacionMujer'])"
   ]
  },
  {
   "cell_type": "code",
   "execution_count": 162,
   "metadata": {},
   "outputs": [
    {
     "data": {
      "text/plain": [
       "True"
      ]
     },
     "execution_count": 162,
     "metadata": {},
     "output_type": "execute_result"
    }
   ],
   "source": [
    "# Limpieza data - 2018\n",
    "\n",
    "columns_use_2018 = []\n",
    "\n",
    "# Uso de data solamente de personas guatemaltecas\n",
    "data_2018 = data_2018[data_2018['NACHOM'] == 'Guatemala']\n",
    "data_2018 = data_2018[data_2018['NACMUJ'] == 'Guatemala']\n",
    "\n",
    "# Clase de union en matrimonio\n",
    "union_tipos_2018 = {'Comunidad de gananciales': 1, 'Comunidad absoluta': 2, 'Separación absoluta': 3}\n",
    "data_2018['claseUnion'] = data_2018['CLAUNI'].apply(lambda x: union_tipos_2018.get(x, 0))\n",
    "columns_use_2018.append('claseUnion')\n",
    "\n",
    "# Grupo etnico de hombre y mujer\n",
    "grupos_etnicos_2018 = {'Ladino / Mestizo': 1, 'Maya': 2, 'Garífuna': 2, 'Xinca': 2}\n",
    "data_2018['grupoEtnicoHombre'] = data_2018['PUEHOM'].apply(lambda x: grupos_etnicos_2018.get(x, 0))\n",
    "data_2018['grupoEtnicoMujer'] = data_2018['PUEMUJ'].apply(lambda x: grupos_etnicos_2018.get(x, 0))\n",
    "columns_use_2018.extend(['grupoEtnicoMujer', 'grupoEtnicoHombre'])\n",
    "\n",
    "# Edad del hombre\n",
    "data_2018['edadHombre'] = data_2018['EDADHOM']\n",
    "columns_use_2018.append('edadHombre')\n",
    "\n",
    "# Edad de la mujer\n",
    "data_2018['edadMujer'] = data_2018['EDADMUJ']\n",
    "columns_use_2018.append('edadMujer')\n",
    "\n",
    "# Nivel de educacion del hombre y de la mujer\n",
    "educacion_tipos_2018 = {'Ninguno': 1, 'Primaria': 2, 'Básico': 3, 'Diversificado': 4, 'Universitario': 5, 'Post Grado': 6}\n",
    "data_2018['educacionHombre'] = data_2018['ESCHOM'].apply(lambda x: educacion_tipos_2018.get(x, 0))\n",
    "data_2018['educacionMujer'] = data_2018['ESCMUJ'].apply(lambda x: educacion_tipos_2018.get(x, 0))\n",
    "columns_use_2018.extend(['educacionHombre', 'educacionMujer'])\n"
   ]
  },
  {
   "cell_type": "code",
   "execution_count": 170,
   "metadata": {},
   "outputs": [],
   "source": [
    "# Limpieza data - 2019\n",
    "\n",
    "columns_use_2019 = []\n",
    "\n",
    "# Uso de data solamente de personas guatemaltecas\n",
    "data_2019 = data_2019[data_2019['NACHOM'] == 'Guatemala']\n",
    "data_2019 = data_2019[data_2019['NACMUJ'] == 'Guatemala']\n",
    "\n",
    "# Clase de union en matrimonio\n",
    "union_tipos_2019 = {'Comunidad de gananciales': 1, 'Comunidad absoluta': 2, 'Separación absoluta': 3}\n",
    "data_2019['claseUnion'] = data_2019['CLAUNI'].apply(lambda x: union_tipos_2019.get(x, 0))\n",
    "columns_use_2019.append('claseUnion')\n",
    "\n",
    "# Grupo etnico de hombre y mujer\n",
    "grupos_etnicos_2019 = {'Ladino / Mestizo': 1, 'Maya': 2, 'Garífuna': 2, 'Xinca': 2}\n",
    "data_2019['grupoEtnicoHombre'] = data_2019['PUEHOM'].apply(lambda x: grupos_etnicos_2019.get(x, 0))\n",
    "data_2019['grupoEtnicoMujer'] = data_2019['PUEMUJ'].apply(lambda x: grupos_etnicos_2019.get(x, 0))\n",
    "columns_use_2019.extend(['grupoEtnicoMujer', 'grupoEtnicoHombre'])\n",
    "\n",
    "# Edad del hombre\n",
    "data_2019['edadHombre'] = data_2019['EDADHOM']\n",
    "columns_use_2019.append('edadHombre')\n",
    "\n",
    "# Edad de la mujer\n",
    "data_2019['edadMujer'] = data_2019['EDADMUJ']\n",
    "columns_use_2019.append('edadMujer')\n",
    "\n",
    "# Nivel de educacion del hombre y de la mujer\n",
    "educacion_tipos_2019 = {'Ninguno': 1, 'Primaria': 2, 'Básico': 3, 'Diversificado': 4, 'Universitario': 5, 'Post Grado': 6}\n",
    "data_2019['educacionHombre'] = data_2019['ESCHOM'].apply(lambda x: educacion_tipos_2019.get(x, 0))\n",
    "data_2019['educacionMujer'] = data_2019['ESCMUJ'].apply(lambda x: educacion_tipos_2019.get(x, 0))\n",
    "columns_use_2019.extend(['educacionHombre', 'educacionMujer'])\n"
   ]
  },
  {
   "cell_type": "code",
   "execution_count": 177,
   "metadata": {},
   "outputs": [],
   "source": [
    "# Limpieza data - 2020\n",
    "\n",
    "columns_use_2020 = []\n",
    "\n",
    "# Uso de data solamente de personas guatemaltecas\n",
    "data_2020 = data_2020[data_2020['NACHOM'] == 'Guatemala']\n",
    "data_2020 = data_2020[data_2020['NACMUJ'] == 'Guatemala']\n",
    "\n",
    "# Clase de union en matrimonio\n",
    "union_tipos_2020 = {'Comunidad de gananciales': 1, 'Comunidad absoluta': 2, 'Separación absoluta': 3}\n",
    "data_2020['claseUnion'] = data_2020['CLAUNI'].apply(lambda x: union_tipos_2020.get(x, 0))\n",
    "columns_use_2020.append('claseUnion')\n",
    "\n",
    "# Grupo etnico de hombre y mujer\n",
    "grupos_etnicos_2020 = {'Ladino / Mestizo': 1, 'Maya': 2, 'Garífuna': 2, 'Xinka': 2}\n",
    "data_2020['grupoEtnicoHombre'] = data_2020['PUEHOM'].apply(lambda x: grupos_etnicos_2020.get(x, 0))\n",
    "data_2020['grupoEtnicoMujer'] = data_2020['PUEMUJ'].apply(lambda x: grupos_etnicos_2020.get(x, 0))\n",
    "columns_use_2020.extend(['grupoEtnicoMujer', 'grupoEtnicoHombre'])\n",
    "\n",
    "# Edad del hombre\n",
    "data_2020['edadHombre'] = data_2020['EDADHOM']\n",
    "\n",
    "# Edad de la mujer\n",
    "data_2020['edadMujer'] = data_2020['EDADMUJ']\n",
    "columns_use_2020.append('edadMujer')\n",
    "\n",
    "# Nivel de educacion del hombre y de la mujer\n",
    "educacion_tipos_2020 = {'Ninguno': 1, 'Primaria': 2, 'Básico': 3, 'Diversificado': 4, 'Universitario': 5, 'Post Grado': 6}\n",
    "data_2020['educacionHombre'] = data_2020['ESCHOM'].apply(lambda x: educacion_tipos_2020.get(x, 0))\n",
    "data_2020['educacionMujer'] = data_2020['ESCMUJ'].apply(lambda x: educacion_tipos_2020.get(x, 0))\n",
    "columns_use_2020.extend(['educacionHombre', 'educacionMujer'])\n"
   ]
  },
  {
   "cell_type": "code",
   "execution_count": 183,
   "metadata": {},
   "outputs": [
    {
     "data": {
      "text/plain": [
       "True"
      ]
     },
     "execution_count": 183,
     "metadata": {},
     "output_type": "execute_result"
    }
   ],
   "source": [
    "# Limpieza data - 2021\n",
    "\n",
    "columns_use_2021 = []\n",
    "\n",
    "# Uso de data solamente de personas guatemaltecas\n",
    "data_2021 = data_2021[data_2021['NACHOM'] == 'Guatemala']\n",
    "data_2021 = data_2021[data_2021['NACMUJ'] == 'Guatemala']\n",
    "\n",
    "# Clase de union en matrimonio\n",
    "union_tipos_2021 = {'Comunidad de gananciales': 1, 'Comunidad absoluta': 2, 'Separación absoluta': 3}\n",
    "data_2021['claseUnion'] = data_2021['CLAUNI'].apply(lambda x: union_tipos_2021.get(x, 0))\n",
    "columns_use_2021.append('claseUnion')\n",
    "\n",
    "# Grupo etnico de hombre y mujer\n",
    "grupos_etnicos_2021 = {'Ladino / Mestizo': 1, 'Maya': 2, 'Garífuna': 2, 'Xinka': 2}\n",
    "data_2021['grupoEtnicoHombre'] = data_2021['PUEHOM'].apply(lambda x: grupos_etnicos_2021.get(x, 0))\n",
    "data_2021['grupoEtnicoMujer'] = data_2021['PUEMUJ'].apply(lambda x: grupos_etnicos_2021.get(x, 0))\n",
    "columns_use_2021.extend(['grupoEtnicoMujer', 'grupoEtnicoHombre'])\n",
    "\n",
    "# Edad del hombre\n",
    "data_2021['edadHombre'] = data_2021['EDADHOM']\n",
    "columns_use_2021.append('edadHombre')\n",
    "\n",
    "# Edad de la mujer\n",
    "data_2021['edadMujer'] = data_2021['EDADMUJ']\n",
    "columns_use_2021.append('edadMujer')\n",
    "\n",
    "# Nivel de educacion del hombre y de la mujer\n",
    "educacion_tipos_2021 = {'Ninguno': 1, 'Primaria': 2, 'Básico': 3, 'Diversificado': 4, 'Universitario': 5, 'Post Grado': 6}\n",
    "data_2021['educacionHombre'] = data_2021['ESCHOM'].apply(lambda x: educacion_tipos_2021.get(x, 0))\n",
    "data_2021['educacionMujer'] = data_2021['ESCMUJ'].apply(lambda x: educacion_tipos_2021.get(x, 0))\n",
    "columns_use_2021.extend(['educacionHombre', 'educacionMujer'])\n"
   ]
  },
  {
   "cell_type": "code",
   "execution_count": 104,
   "metadata": {},
   "outputs": [
    {
     "data": {
      "text/plain": [
       "['Ninguno', 'Ignorado', 'Universitario', 'Diversificado', 'Básico', 'Primaria']"
      ]
     },
     "execution_count": 104,
     "metadata": {},
     "output_type": "execute_result"
    }
   ],
   "source": [
    "data_2011['Eschom'].unique().tolist()"
   ]
  },
  {
   "cell_type": "code",
   "execution_count": 82,
   "metadata": {},
   "outputs": [
    {
     "data": {
      "text/plain": [
       "Escmuj\n",
       "Ninguno          24463\n",
       "Primaria         19173\n",
       "Diversificado    12863\n",
       "Ignorado         12159\n",
       "Básico            6626\n",
       "Universitario     1692\n",
       "Name: count, dtype: int64"
      ]
     },
     "execution_count": 82,
     "metadata": {},
     "output_type": "execute_result"
    }
   ],
   "source": [
    "data_2011['Escmuj'].value_counts()"
   ]
  },
  {
   "cell_type": "code",
   "execution_count": 105,
   "metadata": {},
   "outputs": [
    {
     "data": {
      "text/plain": [
       "['Universitario', 'Diversificado', 'Básico', 'Ninguno', 'Ignorado', 'Primaria']"
      ]
     },
     "execution_count": 105,
     "metadata": {},
     "output_type": "execute_result"
    }
   ],
   "source": [
    "data_2012['ESCHOM'].unique().tolist()"
   ]
  },
  {
   "cell_type": "code",
   "execution_count": 73,
   "metadata": {},
   "outputs": [
    {
     "data": {
      "text/plain": [
       "ESCHOM\n",
       "Primaria         29006\n",
       "DIversificado    18963\n",
       "Básico           12235\n",
       "Ninguno          10058\n",
       "Ignorado          5807\n",
       "Universitario     3275\n",
       "Postgrado           38\n",
       "Name: count, dtype: int64"
      ]
     },
     "execution_count": 73,
     "metadata": {},
     "output_type": "execute_result"
    }
   ],
   "source": [
    "data_2013['ESCHOM'].value_counts()"
   ]
  },
  {
   "cell_type": "code",
   "execution_count": 74,
   "metadata": {},
   "outputs": [
    {
     "data": {
      "text/plain": [
       "ESCHOM\n",
       "Primaria         28400\n",
       "DIversificado    19795\n",
       "Básico           13824\n",
       "Ninguno          10416\n",
       "Universitario     3347\n",
       "Ignorado          2320\n",
       "Postgrado           40\n",
       "Name: count, dtype: int64"
      ]
     },
     "execution_count": 74,
     "metadata": {},
     "output_type": "execute_result"
    }
   ],
   "source": [
    "data_2014['ESCHOM'].value_counts()"
   ]
  },
  {
   "cell_type": "code",
   "execution_count": 75,
   "metadata": {},
   "outputs": [
    {
     "data": {
      "text/plain": [
       "ESCHOM\n",
       "Primaria         27347\n",
       "Diversificado    21533\n",
       "Básico           13707\n",
       "Ninguno           9055\n",
       "Universitario     3606\n",
       "Ignorado          2511\n",
       "Postgrado           23\n",
       "Name: count, dtype: int64"
      ]
     },
     "execution_count": 75,
     "metadata": {},
     "output_type": "execute_result"
    }
   ],
   "source": [
    "data_2015['ESCHOM'].value_counts()"
   ]
  },
  {
   "cell_type": "code",
   "execution_count": 76,
   "metadata": {},
   "outputs": [
    {
     "data": {
      "text/plain": [
       "ESCHOM\n",
       "Primaria         23351\n",
       "Diversificado    20727\n",
       "Básico           12113\n",
       "Ninguno           7467\n",
       "Universitario     3298\n",
       "Ignorado          1153\n",
       "Postgrado           13\n",
       "Name: count, dtype: int64"
      ]
     },
     "execution_count": 76,
     "metadata": {},
     "output_type": "execute_result"
    }
   ],
   "source": [
    "data_2016['ESCHOM'].value_counts()"
   ]
  },
  {
   "cell_type": "code",
   "execution_count": 77,
   "metadata": {},
   "outputs": [
    {
     "data": {
      "text/plain": [
       "ESCHOM\n",
       "Primaria         24166\n",
       "Diversificado    21086\n",
       "Básico           13190\n",
       "Ninguno           7757\n",
       "Universitario     3156\n",
       "Ignorado           884\n",
       "Name: count, dtype: int64"
      ]
     },
     "execution_count": 77,
     "metadata": {},
     "output_type": "execute_result"
    }
   ],
   "source": [
    "data_2017['ESCHOM'].value_counts()"
   ]
  },
  {
   "cell_type": "code",
   "execution_count": 78,
   "metadata": {},
   "outputs": [
    {
     "data": {
      "text/plain": [
       "ESCHOM\n",
       "Primaria         25805\n",
       "Diversificado    22470\n",
       "Básico           14281\n",
       "Ninguno           7750\n",
       "Universitario     2400\n",
       "Ignorado           624\n",
       "Post Grado          21\n",
       "Name: count, dtype: int64"
      ]
     },
     "execution_count": 78,
     "metadata": {},
     "output_type": "execute_result"
    }
   ],
   "source": [
    "data_2018['ESCHOM'].value_counts()"
   ]
  },
  {
   "cell_type": "code",
   "execution_count": 79,
   "metadata": {},
   "outputs": [
    {
     "data": {
      "text/plain": [
       "ESCHOM\n",
       "Primaria         26393\n",
       "Diversificado    23132\n",
       "Básico           15694\n",
       "Ninguno           7517\n",
       "Universitario     1951\n",
       "Ignorado           736\n",
       "Post Grado          13\n",
       "Name: count, dtype: int64"
      ]
     },
     "execution_count": 79,
     "metadata": {},
     "output_type": "execute_result"
    }
   ],
   "source": [
    "data_2019['ESCHOM'].value_counts()"
   ]
  },
  {
   "cell_type": "code",
   "execution_count": 80,
   "metadata": {},
   "outputs": [
    {
     "data": {
      "text/plain": [
       "ESCHOM\n",
       "Primaria         18834\n",
       "Diversificado    16936\n",
       "Básico           12127\n",
       "Ninguno           4774\n",
       "Ignorado          1957\n",
       "Universitario     1744\n",
       "Post Grado          24\n",
       "Name: count, dtype: int64"
      ]
     },
     "execution_count": 80,
     "metadata": {},
     "output_type": "execute_result"
    }
   ],
   "source": [
    "data_2020['ESCHOM'].value_counts()"
   ]
  },
  {
   "cell_type": "code",
   "execution_count": 81,
   "metadata": {},
   "outputs": [
    {
     "data": {
      "text/plain": [
       "ESCHOM\n",
       "Primaria         30156\n",
       "Diversificado    24204\n",
       "Básico           18781\n",
       "Ninguno           7724\n",
       "Ignorado          2614\n",
       "Universitario     2308\n",
       "Post Grado          58\n",
       "Name: count, dtype: int64"
      ]
     },
     "execution_count": 81,
     "metadata": {},
     "output_type": "execute_result"
    }
   ],
   "source": [
    "data_2021['ESCHOM'].value_counts()"
   ]
  }
 ],
 "metadata": {
  "kernelspec": {
   "display_name": "Python 3",
   "language": "python",
   "name": "python3"
  },
  "language_info": {
   "codemirror_mode": {
    "name": "ipython",
    "version": 3
   },
   "file_extension": ".py",
   "mimetype": "text/x-python",
   "name": "python",
   "nbconvert_exporter": "python",
   "pygments_lexer": "ipython3",
   "version": "3.11.3"
  },
  "orig_nbformat": 4
 },
 "nbformat": 4,
 "nbformat_minor": 2
}
